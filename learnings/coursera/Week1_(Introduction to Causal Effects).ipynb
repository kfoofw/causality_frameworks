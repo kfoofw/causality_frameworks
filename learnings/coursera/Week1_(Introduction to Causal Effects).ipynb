{
 "cells": [
  {
   "cell_type": "markdown",
   "metadata": {},
   "source": [
    "## Week 1: Introduction to Causal Effects"
   ]
  },
  {
   "cell_type": "markdown",
   "metadata": {},
   "source": [
    "__Spurious correlation:__ Causally unrelated variables might happen to be highly correlated with each other over some period of time.\n",
    "\n",
    "__Anecdotes:__ People have beliefs about causal effects in their own lives  \n",
    "__Reverse Causality:__ Even if there is a causal relationship, sometimes the direction is unclear.\n",
    "\n",
    "Causality framework:\n",
    "- Formal definitions\n",
    "- Assumptions necessary to identify causal effects from data\n",
    "- Rules about what variables need to be controlled for\n",
    "- Sensitivity analysis to determine the impact of violations of assumptions on conclusions\n",
    "\n",
    "Causal inference from observational studies and natural experiments\n",
    "- In observational studies, the treatment or exposure is just as it is in the real world without any direct manipulation/assignment. \n",
    "- Causal inference requires making some untestable assumptions\n"
   ]
  },
  {
   "cell_type": "markdown",
   "metadata": {},
   "source": [
    "### Terminology: Potential Outcomes vs Counterfactual"
   ]
  },
  {
   "cell_type": "markdown",
   "metadata": {},
   "source": [
    "Potential outcomes  \n",
    "- Potential outcomes are the outcomes we would see under each possible treatment option\n",
    "- $Y^a$ is the outcome that would be observed if treatment was set to A=a. Each person has potential outcomes $Y^0, Y^1$\n",
    "\n",
    "Counterfactual  \n",
    "- Counterfactual outcomes are ones that would have been observed, had the treatment been different.\n",
    "\n",
    "Key difference:   \n",
    "- Before the treatment decision is made, any outcome is a potential outcome: $Y^0$ and $Y^1$\n",
    "- After the study, there is an observed outcome, $Y = Y^A$, and counterfactual outcomes $Y^{(1-A)}$, with assumption that A is a binary variable.\n",
    "\n",
    "Counterfactual outcomes $Y^0$, $Y^1$ are typically assumed to be the same as potential outcomes $Y^0$, $Y^1$."
   ]
  },
  {
   "cell_type": "markdown",
   "metadata": {},
   "source": [
    "### Terminology: Interventions"
   ]
  },
  {
   "cell_type": "markdown",
   "metadata": {},
   "source": [
    "Interventions or actions\n",
    "- Causal effects of variables that can be manipulated\n",
    "- Common assumption that there are no hidden versions of treatment. The treatment itself is always assumed to be consistent.\n",
    "- Some variables are not directly mutable: Age, Race\n",
    "- Manipulable vs non manipulable:\n",
    " * Race vs Name on resume\n",
    " * Obesity vs Bariatric surgery\n",
    " - Socioeconomic status vs Gift of money\n",
    "- Focus on causal effects of hypothetical interventions since:\n",
    " - Their meaning is well defined\n",
    " - Potentially actionable\n"
   ]
  },
  {
   "cell_type": "markdown",
   "metadata": {},
   "source": [
    "### Fundamental Problem of Causal Inference"
   ]
  },
  {
   "cell_type": "markdown",
   "metadata": {},
   "source": [
    "The fundamental problem of causal inference is that we can only observe one potential outcome for each person. However, with certain assumptions, we can estimate population level (average) causal effects. \n",
    "- How can we use observed data to link observed outcomes to potential outcomes?\n",
    "- What assumptions are necessary to estimate causal effects from observed data?\n"
   ]
  },
  {
   "cell_type": "markdown",
   "metadata": {},
   "source": [
    "### Hypothetical Worlds - Average Causal Effects"
   ]
  },
  {
   "cell_type": "markdown",
   "metadata": {},
   "source": [
    "<img src=\"./img/hypo_worlds_ACE.png\" >"
   ]
  },
  {
   "cell_type": "markdown",
   "metadata": {},
   "source": [
    "Average Causal Effect = E($Y^1 - Y^0$)\n",
    "\n",
    "This is the average value of Y if everyone in the population was treated with A = 1 minus the average value of Y if everyone was treated with A = 0. \n",
    "- If Y is binary, this is a risk difference."
   ]
  },
  {
   "cell_type": "markdown",
   "metadata": {},
   "source": [
    "### “Conditioning on” versus “setting, treatment”"
   ]
  },
  {
   "cell_type": "markdown",
   "metadata": {},
   "source": [
    "In general, $E(Y^1 - Y^0) \\ne E(Y|A=1) - E(Y | A= 0)$\n",
    "- LHS is a causal relationship defined by potential outcomes\n",
    "- RHS is a statistical associational relationship defined by observed data on subpopulations\n",
    "- There needs to be further causal assumptions made such that the causal relationship on the LHS can be reduced to a statistical relationship on the RHS."
   ]
  },
  {
   "cell_type": "markdown",
   "metadata": {},
   "source": [
    "E(Y|A=1) reads as “expected value of Y given A=1”. This restricts to the __subpopulation__ of people who actually had A = 1. This __subpopulation might differ from the whole population__ in important ways; they might not be representative of the overall population. \n",
    "- For example, people at higher risk for flu might be more likely to choose to get a flu shot. This is an example of how there is a confounding variable which affects treatment assignment and outcome.\n",
    "\n",
    "This is illustrated by the following diagram"
   ]
  },
  {
   "cell_type": "markdown",
   "metadata": {},
   "source": [
    "<img src=\"./img/hypo_worlds_conditioning.png\" >"
   ]
  },
  {
   "cell_type": "markdown",
   "metadata": {},
   "source": [
    "To summarise:\n",
    "- E(Y|A-1): mean of Y among people with A = 1\n",
    "- E($Y^1$): mean of Y if the whole population was treated with A = 1\n",
    "\n",
    "__$E(Y|A=1) - E(Y|A=0)$ is generally not a causal effect__ because it is comparing two different (sub)populations of people.\n",
    "\n",
    "__$E(Y^1 - Y^0)$ is a causal effect__ because it is comparing what would happen if the same people were treated with A = 1 versus if the same people were treated with A = 0.\n"
   ]
  },
  {
   "cell_type": "markdown",
   "metadata": {},
   "source": [
    "### Other Causal Effects:\n",
    "\n",
    "1. $E(Y^1/Y^0)$: __Causal relative risk__\n",
    "\n",
    "2. $E(Y1- Y0| A=1)$: __Causal effect of treatment on the treated (subpopulation)__\n",
    " - Might be interested in how well treatment works among treated people.\n",
    " - __There might be some subpopulation in the general population that are not interested in the treatment (e.g. patients who are not interested in surgery)__. Thus we want to find out among people who do want the surgery, how well does the treatment work?\n"
   ]
  },
  {
   "cell_type": "markdown",
   "metadata": {},
   "source": [
    "<img src=\"./img/hypo_worlds_treated.png\" >"
   ]
  },
  {
   "cell_type": "markdown",
   "metadata": {},
   "source": [
    "3. $E(Y^1- Y^0|V=v)$: __Average causal effect in the subpopulation with covariate V=v.__\n",
    " - Also known as heterogeneity treatment effects where there might be some subpopulation defined by v. \n",
    " - We are isolating a treatment effect, but maybe in certain sub-populations\n"
   ]
  },
  {
   "cell_type": "markdown",
   "metadata": {},
   "source": [
    "### Identifiability"
   ]
  },
  {
   "cell_type": "markdown",
   "metadata": {},
   "source": [
    "Identifiability of causal effects requires making some __untestable assumptions called causal assumptions__: \n",
    "1. Stable Unit Treatment Value Assumption (SUTVA)\n",
    "2. Consistency\n",
    "3. Ignorability\n",
    "4. Positivity\n",
    "\n",
    "These assumptions will be about the observed data: Y, A, and a set of pre-treatment covariates X.\n"
   ]
  },
  {
   "cell_type": "markdown",
   "metadata": {},
   "source": [
    "#### __SUTVA__"
   ]
  },
  {
   "cell_type": "markdown",
   "metadata": {},
   "source": [
    "SUTVA involves two assumptions:\n",
    "- No interference: Units do not interfere with each other. \n",
    " - Treatment assignment of one unit does not affect the OUTCOME of another unit. \n",
    " - Spillover or contagion are also terms for interference\n",
    "- One version of treatment that is consistent\n",
    "\n",
    "SUTVA allows us to write the potential outcome for the _ith_ person in terms of only that person’s treatment.\n"
   ]
  },
  {
   "cell_type": "markdown",
   "metadata": {},
   "source": [
    "#### __Consistency__\n",
    "Consistency assumption: The potential outcome under treatment A=a, $Y^a$, is equal to the observed outcome if the actual treatment received is A=a. \n",
    "\n",
    "This assumption is simply linking/relating potential outcomes with observed outcomes."
   ]
  },
  {
   "cell_type": "markdown",
   "metadata": {},
   "source": [
    "#### __Ignorability__\n",
    "\n",
    "This is also known as the no unmeasured confounders assumption, and is probably the most critical assumption of all.\n",
    "\n",
    "Given pre-treatment covariates X, the treatment assignment is independent from the potential outcomes. This can also be phrased as __the conditional independence of treatment assignment from potential outcomes.__\n",
    "\n",
    "$Y^0, Y^1 \\perp A | X$\n",
    "\n",
    "Implications: Among people with the same values of X, we can think of treatment as being randomly  assigned. Treatment itself becomes ignorable (a non-factor) if we have the right covariates. \n",
    "\n"
   ]
  },
  {
   "cell_type": "markdown",
   "metadata": {},
   "source": [
    "Toy example:\n",
    "- X is a single variable (age) that can take values “younger” or “older”\n",
    "- Older people are more likely to get treatment A = 1\n",
    "- Older people are also more likely to have the outcome (hip fracture) regardless of treatment\n",
    "- Thus age is related to the risk of outcome, as well as related to treatment assignment.\n",
    "\n",
    "$Y^0$ and $Y^1$ are not independent from A (marginally).  \n",
    "However, within levels of X, treatment might be __randomly assigned.__\n"
   ]
  },
  {
   "cell_type": "markdown",
   "metadata": {},
   "source": [
    "#### __Positivity__\n",
    "\n",
    "For every set of values for X covariates, treatment assignment was not deterministic. \n",
    "\n",
    "$P(A=a|X=x)$ > 0 for all a and x\n",
    "\n",
    "If this was violated, it will mean that for a given value of X, everybody is treated. This means that there is no way for us to learn the causal treatment effect. \n",
    "\n",
    "If for some values of X, treatment was deterministic:\n",
    "- P(A = 1|X) = 1 \n",
    "- P(A=0|X) = 0,  \n",
    "\n",
    "then we would have no observed values of Y for one of the treatment groups for those values of X. \n",
    "\n",
    "Positivity assumption states that as long as within every level of X, there are people who are treated and not treated. Variability in treatment assignment is important for identification.\n",
    "\n"
   ]
  },
  {
   "cell_type": "markdown",
   "metadata": {},
   "source": [
    "__Observed Data and Potential Outcomes__\n",
    "\n",
    "The following steps allow us to use the assumptions to identify a causal relationship using observed data:  \n",
    "\n",
    "$E(Y | A=a,X=x)$ involves only observed data  \n",
    "= $E(Y^a | A=a, X=x)$ by consistency (linking potential outcomes with observed outcomes for the given treatment)  \n",
    "= $E(Y^a | X=x)$ by ignorability (drop the conditioning on treatment since it is supposed to be independent of potential outcomes)\n",
    "\n",
    "Thus, with those causal assumptions,  \n",
    "$E(Y|A=a, X=x) = E(Y^a | X=x)$\n"
   ]
  },
  {
   "cell_type": "markdown",
   "metadata": {},
   "source": [
    "__Conditioning and Marginalizing = Standardisation__\n",
    "\n",
    "Marginal causal effect: $E(Y^a) = E_x(Y^a | X=x)$ by averaging over X\n",
    "- For discrete forms of X, we perform a summation $\\sum_x E(Y|A=a, X=x) P(X=x)$\n",
    "- For Continuous forms of X, we perform integration $\\int P (Y|A=a, X=x) P(X=x) dx$\n",
    "\n",
    "Expected variable of the potential outcome is just an expected value of the observed outcome in these subpopulations averaged over the distribution of the covariant. \n",
    "\n",
    "This is known as __standardisation__, which involves conditioning/stratifying first before marginalizing/averaging over. This gives us the __standardized mean__, which happens to be the same as the __average potential outcome__ (either $E(Y^1)$ or $E(Y^0)$.  \n"
   ]
  },
  {
   "cell_type": "markdown",
   "metadata": {},
   "source": [
    "__Standardisation__ involves stratfying and then averaging.  \n",
    "- Obtain a treatment effect within each stratum and then pool across stratum, weighting by the probability (size) of each stratum\n",
    "- From data, you could estimate a treatment effect by computing means under each treatment within each stratum, and then pooling across stratum.\n",
    "\n",
    "Following example can be illustrated as shown: \n",
    "- Treatment is “Saxa”\n",
    "- Outcome is “MACE” as a risk\n",
    "- Confounding variable to be stratified is “Prior OAD use”\n"
   ]
  },
  {
   "cell_type": "markdown",
   "metadata": {},
   "source": [
    "Without stratification, we have the naive approach that does not account for confounding:\n",
    "\n",
    "<img src=\"./img/standardisation_1.png\" >"
   ]
  },
  {
   "cell_type": "markdown",
   "metadata": {},
   "source": [
    "Without stratification, Saxa treatment group was observed to have higher risk of MACE (due to confounding of treatment assignment that patients who were worse off tend to receive treatment)"
   ]
  },
  {
   "cell_type": "markdown",
   "metadata": {},
   "source": [
    "With __standardisation__, we obtain the following tables using __stratification__ based on the confounding variable first:\n",
    "\n",
    "<img src=\"./img/standardisation_2.png\" >\n",
    "<img src=\"./img/standardisation_3.png\" >"
   ]
  },
  {
   "cell_type": "markdown",
   "metadata": {},
   "source": [
    "Subsequently, we perform marginalization over the confounding variable:\n",
    "\n",
    "<img src=\"./img/standardisation_4.png\" >\n",
    "<img src=\"./img/standardisation_5.png\" >"
   ]
  },
  {
   "cell_type": "markdown",
   "metadata": {},
   "source": [
    "Comparing the treatment effects of either SAXA or SITA (non-SAXA), we see that there is no difference in terms of the outcome risk MACE variable."
   ]
  },
  {
   "cell_type": "markdown",
   "metadata": {},
   "source": [
    "Problems with Standardization:\n",
    "- Typically there will be many X variables needed to achieve ignorability\n",
    "- Stratification would lead to many empty cells (no data for combinations of stratification)\n",
    "- Need alternatives to standardization \n"
   ]
  }
 ],
 "metadata": {
  "kernelspec": {
   "display_name": "Python 3",
   "language": "python",
   "name": "python3"
  },
  "language_info": {
   "codemirror_mode": {
    "name": "ipython",
    "version": 3
   },
   "file_extension": ".py",
   "mimetype": "text/x-python",
   "name": "python",
   "nbconvert_exporter": "python",
   "pygments_lexer": "ipython3",
   "version": "3.7.6"
  }
 },
 "nbformat": 4,
 "nbformat_minor": 4
}
