{
 "cells": [
  {
   "cell_type": "markdown",
   "metadata": {},
   "source": [
    "## Observational Studies"
   ]
  },
  {
   "cell_type": "markdown",
   "metadata": {},
   "source": [
    "We need to understand the difference between observational studies and randomised trials, and how to bridge the difference with matching."
   ]
  },
  {
   "cell_type": "markdown",
   "metadata": {},
   "source": [
    "Consider the following DAG:\n",
    "\n",
    "<img src=\"./img/dags_confounding.png\" >\n",
    "\n",
    "In this case, X is sufficient to control for confounding.\n",
    "- Ignorability assumption holds:\n",
    "\n",
    "$Y^0, Y^1 \\perp A |X$"
   ]
  },
  {
   "cell_type": "markdown",
   "metadata": {},
   "source": [
    "In a randomized trial, treatment assignment A would be determined by a coin toss.\n",
    "- This effectively erases the arrow from X to A.\n",
    "\n",
    "<img src=\"./img/dags_rct_vs_observational.png\" >"
   ]
  },
  {
   "cell_type": "markdown",
   "metadata": {},
   "source": [
    "In a randomized trial, the distribution of X will be the same in both treatment groups.\n",
    "\n",
    "<img src=\"./img/rct_population.png\" >"
   ]
  },
  {
   "cell_type": "markdown",
   "metadata": {},
   "source": [
    "In summary:\n",
    "- Distribution of preteatment variabels X that affect Y are the same in both treatment groups.\n",
    " - __Covariate balance is ensured__\n",
    "- Thus, if the outcome distribution ends up differing, it will not be because of differences in X.\n",
    "- X is dealth with at the design phase"
   ]
  },
  {
   "cell_type": "markdown",
   "metadata": {},
   "source": [
    "<u> Issues with Randomization:</u>\n",
    "- Randomized trials are expensive\n",
    "- Sometimes randomizing treatment/exposure is unethical\n",
    "- Some (many) people will refuse to partcipate in trials\n",
    "- Randomized trials take time (you have to wait for outcome data).\n",
    " - In some cases, by the time you have outcome data, the question might no longer be relevant."
   ]
  },
  {
   "cell_type": "markdown",
   "metadata": {},
   "source": [
    "<u>Observational Studies</u>\n",
    "Planned, prospective, observational studies with active data collection:\n",
    "- __Like trials:__ data collected on a commn set of variables at planned times; outcomes are carefully measured; study protocols.\n",
    "- __Unlike trials:__ regulations much weaker, since not intervening; broader population eligible for the study.\n",
    "\n",
    "Databases, retrospective, passive data collection:\n",
    "- large sample sizes; inexpensive; potential for rapid analysis\n",
    "- Data quality typically lower; no uniform standard of collection"
   ]
  },
  {
   "cell_type": "markdown",
   "metadata": {},
   "source": [
    "In observational studies, the distribution of X will differ between treatment groups (since there is no control of the covariate to ensure balance).\n",
    "- For example, if older people are more likely to get A = 1, we might see distributions like this:\n",
    "\n",
    "<img src=\"./img/obs_vs_rct_distribution.png\" >"
   ]
  },
  {
   "cell_type": "markdown",
   "metadata": {},
   "source": [
    "### Matching\n",
    "\n",
    "Matching is a method that attempts to make an observational study more like a randomized trial.\n",
    "\n",
    "Main idea:\n",
    "- Match individuals in the treated group (A = 1) to individuals in the control group (A=0) on the covariates X.\n",
    "\n",
    "In the example where older people are more likely to get A = 1:\n",
    "- At younger ages, there are more people with A = 0\n",
    "- At older ages, there are more people with A = 1\n",
    "\n",
    "In a RCT, for any particular age, there should be about the same number of treated and untreated people.\n",
    "\n",
    "__By matching treated people to control people of the same age, there will be about the same number of treated and controls at any age.__"
   ]
  },
  {
   "cell_type": "markdown",
   "metadata": {},
   "source": [
    "<u> Advantages of matching </u>\n",
    "\n",
    "Controlling for confounders is acheived at the design phase (without looking at the outcome)\n",
    "- the difficult statistical work can be done completely blinded to the outcomes\n",
    "\n",
    "Matching will __reveal lack of overlap__ in covariate distribution\n",
    "- Positivity assumption will hold in the population that can be matched\n",
    "\n",
    "Once data are matched, essentially treated as if the data is produced from a randomized trial with __ensured covariate balance__."
   ]
  },
  {
   "cell_type": "markdown",
   "metadata": {},
   "source": [
    "### Single Covariate Matching\n"
   ]
  },
  {
   "cell_type": "markdown",
   "metadata": {},
   "source": [
    "Consider the following covariate distribution of a single covariate between the treatment groups.\n",
    "\n",
    "<img src=\"./img/matching_single_covariate_1.png\" >"
   ]
  },
  {
   "cell_type": "markdown",
   "metadata": {},
   "source": [
    "We can match each treated subject to a control subject\n",
    "\n",
    "<img src=\"./img/matching_single_covariate_2.png\" >\n",
    "\n",
    "and then we eliminate the excess \"blue\" subjects in the Control group.\n",
    "\n",
    "<img src=\"./img/matching_single_covariate_3.png\" >\n",
    "\n",
    "This ensures a balance in the covariate X."
   ]
  },
  {
   "cell_type": "markdown",
   "metadata": {},
   "source": [
    "### Many covariates\n",
    "\n",
    "We will not be able to exactly match on the full set of covariates.\n",
    "\n",
    "In a randomized trial, treated and control subjects are not perfect matches either.\n",
    "- The distribution of covariates is balanced between groups (stochastic balance)\n",
    "\n",
    "With observational data, matching closely on covariates can achieve stochastic balance."
   ]
  },
  {
   "cell_type": "markdown",
   "metadata": {},
   "source": [
    "Example with two covariates (sex, age)\n",
    "\n",
    "<img src=\"./img/matching_double_covariates_1.png\" >\n",
    "\n",
    "It is easy to match on discrete type covariates (sex), but not so easy to match on continuous type covariates (age).\n",
    "\n",
    "<img src=\"./img/matching_double_covariates_2.png\" >"
   ]
  },
  {
   "cell_type": "markdown",
   "metadata": {},
   "source": [
    "Note that we are making the __distribution of covariates in the control population look like that in the treated population__:\n",
    "- Doing so means we are find the causal treatment on the treated.\n",
    "\n",
    "This is represented by the following population breakdown\n",
    "\n",
    "<img src=\"./img/hypo_worlds_treated.png\" >\n",
    "\n",
    "There are matching methods that can be used to target a different population, but this requires more advanced techniques."
   ]
  },
  {
   "cell_type": "markdown",
   "metadata": {},
   "source": [
    "### Fine Balance\n",
    "\n",
    "Sometimes it is difficult to find great matches. We might be willing to accept some non-ideal matches if treated and control groups have same distribution of covariates.\n",
    "- This is known as __\"fine balance\"__.\n",
    "\n",
    "For example:\n",
    "- Match 1: \n",
    " - Treated: Male, Age 40\n",
    " - Control: Female, Age 45\n",
    "- Match 2:\n",
    " - Treated: Female, Age 45\n",
    " - Control: Male, Age 40\n",
    " \n",
    "Average age and percent female are the same in both groups, __even though neither match is great__.\n",
    "- Percentage of Male is 50% which is the same in both treatment groups\n",
    "- Average age in both treatment groups is 42.5\n",
    "\n",
    "__We achieve fine balance even though the matches are not great by tolerating non-ideal matches.__"
   ]
  },
  {
   "cell_type": "markdown",
   "metadata": {},
   "source": [
    "<u> Number of matches </u>\n",
    "- __One to one (pair matching)__\n",
    " - Match exactly one control to every treated subject\n",
    " - Discard those without matches so you might lose some efficiency\n",
    "- __Many to one__\n",
    " - Match some fixed number K controls to every treated subject (e.g., 5 to 1 matching)\n",
    "- __Variable__\n",
    " - Sometimes match 1, sometimes more than 1, control to treated subjects\n",
    "  - If multiple good matches available, use them. \n",
    "  - If not, do not."
   ]
  },
  {
   "cell_type": "markdown",
   "metadata": {},
   "source": [
    "### How to match?\n",
    "\n",
    "Because we typically cannot match exactly, we first need to choose some metric of closeness.\n",
    "\n",
    "We will consider two options (for now):\n",
    "- Mahalanobis distance\n",
    "- Robust Mahalanobis distance"
   ]
  },
  {
   "cell_type": "markdown",
   "metadata": {},
   "source": [
    "### Mahalanobis distance\n",
    "\n",
    "Denote by $X_j$ (a vector of covariates for subject j).\n",
    "\n",
    "The Mahalanobis distance between covariates for subject i and subject j is:\n",
    "\n",
    "$D(X_i, X_j) = \\sqrt{(X_i - X_j)^TS^{-1}(X_i-X_j)}$\n",
    "\n",
    "This metric is the square root of the sum of squared distances between each covariate scaled by the covariance matrix\n",
    "- We need to scale because some dimensions may be on a much larger quantum, so \"big\" should be a relative notion."
   ]
  },
  {
   "cell_type": "markdown",
   "metadata": {},
   "source": [
    "<img src=\"./img/mahalanobis_dist_1.png\" >"
   ]
  },
  {
   "cell_type": "markdown",
   "metadata": {},
   "source": [
    "### Robust Mahalanobis distance\n",
    "\n",
    "Motivation is to deal with outlier data.\n",
    "- Outliers (in a specific dimension/covariate) can create large distances between subjects, even if the covariates are otherwise similar\n",
    "- __Ranks__ might be more relevant\n",
    " - e.g. highest and second highest ranked valeus of covariates perhaps should be treated as similar, even if the values are far apart.\n",
    " \n",
    "\n",
    "Robust Mahalanobis distance:\n",
    "- Replace each covariate value with its rank\n",
    "- Constant diagonal on covariance matrix (since ranks should be on the same scale)\n",
    "- Calculate the usual Mahalanobis distance on the ranks"
   ]
  },
  {
   "cell_type": "markdown",
   "metadata": {},
   "source": [
    "### Other distance measures\n",
    "- If you want an exact match on a few important covariates, you can essentially make the distance infinity if they are not equal. \n",
    " - In other words, strong penalty/weightage for specific covariates dimensions\n",
    "- Distance on propensity score "
   ]
  },
  {
   "cell_type": "markdown",
   "metadata": {},
   "source": [
    "Once you have a distance score, how should you select matches?\n",
    "- __Greedy (nearest neighbor) matching__\n",
    " - Not as good but coputationally fast\n",
    "- __Optimal matching__\n",
    " - Better but computationally demanding."
   ]
  },
  {
   "cell_type": "markdown",
   "metadata": {},
   "source": [
    "### Greedy (nearest neighbor) matching\n",
    "\n",
    "Experiment Setup:\n",
    "- Selected a set of pre-treatment covariates X that (hopefully) satisfy the ignoraibility assumption\n",
    "- You have calculated a distance $d_{ij}$ between each treated subject with every control subject\n",
    "- You have many more controls subjects than treated subjects\n",
    " - This is often the case in observational studies\n",
    "- Focus is on pair (one-to-one) matching "
   ]
  },
  {
   "cell_type": "markdown",
   "metadata": {},
   "source": [
    "Steps:\n",
    "1. Randomly order list of treated subejcts and control subjects\n",
    "2. Start with the first trated subject. Match to the control with the smallest distance (this is greedy).\n",
    "3. Remove the matched control from the list of available matches.\n",
    "4. Move on to the next treated subject. Match tot he control with the smallest distance.\n",
    "5. Repeat steps 3 and 4 until you have matched all treated subjects."
   ]
  },
  {
   "cell_type": "markdown",
   "metadata": {},
   "source": [
    "<u> Greedy Matching</u>\n",
    "- Intuitive \n",
    "- Computationally fast\n",
    "    - Involves a series of simple algorithms (identifying min distance)\n",
    "    - Fast even for large data sets\n",
    "    - R package: MatchIt\n",
    "- Not invariant to intial order of list\n",
    "- Not optimal\n",
    "    - Always taking the smallest distance match does not minimize total distance\n",
    "    - Can lead to some bad matches"
   ]
  },
  {
   "cell_type": "markdown",
   "metadata": {},
   "source": [
    "<u> Many-to-one Matching</u>\n",
    "- For k:1 matching:\n",
    "    - After everyone has 1 match, go through the list again and find 2nd matches from the remaining pool"
   ]
  },
  {
   "cell_type": "markdown",
   "metadata": {},
   "source": [
    "<u> Tradeoffs</u>\n",
    "- Pair matching\n",
    "    - Closer matches\n",
    "    - Faster computing time\n",
    "- Many-to-one\n",
    "    - Larger sample size\n",
    "- Largely a bias-variance tradeoff issue\n",
    "    - Pair matching has less bias because the matching is closer, but it should be less efficient because you are discarding data.\n",
    "    - Many to one matching has more bias, but smaller variance.\n",
    "- Note that the efficiency gain for using \"many-to-one\" is not as much as if you were adding an additional treated subject that you can find matches for in the control subjects."
   ]
  },
  {
   "cell_type": "markdown",
   "metadata": {},
   "source": [
    "<u> Caliper </u>\n",
    "- We might prefer to exclude treated subjects for whom there does not exist a good match.\n",
    "- A bad match can be defined using a caliper (max acceptable distance)\n",
    "    - Only match a treated subject if the best control match has distance less than the caliper\n",
    "    - Otherwise, get rid of that treated subject\n",
    "    - Recall positivity assumption (prob of each treatment given X should be non-zero): \n",
    "        - If no matches within caliper, it is a sign that positivity assumption would be violated.\n",
    "        - Excluding these subjects makes assumption more realistic\n",
    "        - Drawback: population might be hard to define"
   ]
  },
  {
   "cell_type": "markdown",
   "metadata": {},
   "source": [
    "### Optimal Matching\n",
    "- Greedy matching is not typically optimal\n",
    "- Optimal matching\n",
    "    - Minimizes global distance measure\n",
    "    - Computationally demanding\n",
    "    - R packages:\n",
    "        - `optmatch`\n",
    "        - `rcbalance`\n",
    "\n",
    "Feasibility:\n",
    "- Where or not it is feasible to perform optimal matching depends on the size of the problem.\n",
    "- Constraints can be imposed to make optimal matching computationally feasible for larger data sets.\n",
    "    - For example:\n",
    "        - Match within hospitals in a multi-site clinical study\n",
    "        - Match within primary disease categoy\n",
    "        - These are \"blocks\"\n",
    "    - This is known as sparse matching\n",
    "        - Mismatches can be tolerated if fine balance can still be achieved."
   ]
  },
  {
   "cell_type": "markdown",
   "metadata": {},
   "source": [
    "### Assessing Balance\n",
    "\n",
    "<u> Did matching work? </u>\n",
    "- After you ahve matched, you should assess whether matching worked.\n",
    "    - __Covariate balance__\n",
    "        - Standardized differences\n",
    "            - Similar means?\n",
    "    - __This can/should be done without looking at the outcome__\n",
    "- Commonly, a \"Table 1\" is created, where pre-matching and post-matching balance is compared."
   ]
  },
  {
   "cell_type": "markdown",
   "metadata": {},
   "source": [
    "<u> Hypothesis Tests and p-values </u>\n",
    "- Balance can be assessed with hypothesis tests\n",
    "    - i.e., test for a difference in means between treated and controls for each covariate\n",
    "        - Two sample t-tests (for continuous covariates) or chi-square test (for discrete covariates) and report p-value for each test\n",
    "    - Drawback:\n",
    "        - p-values are dependent on sample size\n",
    "        - Small differences in means will have a small p-value if the sample size is large (which is often in most cases).\n",
    "            - We probably do not care much if mean differences are small.\n"
   ]
  },
  {
   "cell_type": "markdown",
   "metadata": {},
   "source": [
    "<u> Standardised differences </u>\n",
    "\n",
    "A standardised difference is the difference in means between groups, divided by the (pooled) standard deviation.\n",
    "\n",
    "<img src=\"./img/standardised_diff_formula.png\" >\n",
    "\n",
    "Standardised differences:\n",
    "- Does not depend on sample size\n",
    "- Often, absolue value of smd is reported (ignore polarity)\n",
    "- Calculate for each variable that you match on\n",
    "\n",
    "Rules of thumb:\n",
    "- Values < 0.1 indicate adequate balance\n",
    "- Values 0.1 to 0.2 are not too alarming\n",
    "- Values > 0.2 indicate serious imbalance"
   ]
  },
  {
   "cell_type": "markdown",
   "metadata": {},
   "source": [
    "### Table 1\n",
    "\n",
    "<img src=\"./img/table1_1.png\" >\n",
    "\n",
    "### SMD Plot with Threshold = 0.1\n",
    "<img src=\"./img/smd_plot.png\" >\n"
   ]
  },
  {
   "cell_type": "markdown",
   "metadata": {},
   "source": []
  },
  {
   "cell_type": "markdown",
   "metadata": {},
   "source": []
  },
  {
   "cell_type": "markdown",
   "metadata": {},
   "source": []
  },
  {
   "cell_type": "markdown",
   "metadata": {},
   "source": []
  }
 ],
 "metadata": {
  "kernelspec": {
   "display_name": "Python 3",
   "language": "python",
   "name": "python3"
  },
  "language_info": {
   "codemirror_mode": {
    "name": "ipython",
    "version": 3
   },
   "file_extension": ".py",
   "mimetype": "text/x-python",
   "name": "python",
   "nbconvert_exporter": "python",
   "pygments_lexer": "ipython3",
   "version": "3.7.6"
  }
 },
 "nbformat": 4,
 "nbformat_minor": 4
}
