{
 "cells": [
  {
   "cell_type": "markdown",
   "metadata": {},
   "source": [
    "## Observational Studies"
   ]
  },
  {
   "cell_type": "markdown",
   "metadata": {},
   "source": [
    "We need to understand the difference between observational studies and randomised trials, and how to bridge the difference with matching."
   ]
  },
  {
   "cell_type": "markdown",
   "metadata": {},
   "source": [
    "Consider the following DAG:\n",
    "\n",
    "<img src=\"./img/dags_confounding.png\" >\n",
    "\n",
    "In this case, X is sufficient to control for confounding.\n",
    "- Ignorability assumption holds:\n",
    "\n",
    "$Y^0, Y^1 \\perp A |X$"
   ]
  },
  {
   "cell_type": "markdown",
   "metadata": {},
   "source": [
    "In a randomized trial, treatment assignment A would be determined by a coin toss.\n",
    "- This effectively erases the arrow from X to A.\n",
    "\n",
    "<img src=\"./img/dags_rct_vs_observational.png\" >"
   ]
  },
  {
   "cell_type": "markdown",
   "metadata": {},
   "source": [
    "In a randomized trial, the distribution of X will be the same in both treatment groups.\n",
    "\n",
    "<img src=\"./img/rct_population.png\" >"
   ]
  },
  {
   "cell_type": "markdown",
   "metadata": {},
   "source": [
    "In summary:\n",
    "- Distribution of preteatment variabels X that affect Y are the same in both treatment groups.\n",
    " - __Covariate balance is ensured__\n",
    "- Thus, if the outcome distribution ends up differing, it will not be because of differences in X.\n",
    "- X is dealth with at the design phase"
   ]
  },
  {
   "cell_type": "markdown",
   "metadata": {},
   "source": [
    "<u> Issues with Randomization:</u>\n",
    "- Randomized trials are expensive\n",
    "- Sometimes randomizing treatment/exposure is unethical\n",
    "- Some (many) people will refuse to partcipate in trials\n",
    "- Randomized trials take time (you have to wait for outcome data).\n",
    " - In some cases, by the time you have outcome data, the question might no longer be relevant."
   ]
  },
  {
   "cell_type": "markdown",
   "metadata": {},
   "source": [
    "<u>Observational Studies</u>\n",
    "Planned, prospective, observational studies with active data collection:\n",
    "- __Like trials:__ data collected on a commn set of variables at planned times; outcomes are carefully measured; study protocols.\n",
    "- __Unlike trials:__ regulations much weaker, since not intervening; broader population eligible for the study.\n",
    "\n",
    "Databases, retrospective, passive data collection:\n",
    "- large sample sizes; inexpensive; potential for rapid analysis\n",
    "- Data quality typically lower; no uniform standard of collection"
   ]
  },
  {
   "cell_type": "markdown",
   "metadata": {},
   "source": [
    "In observational studies, the distribution of X will differ between treatment groups (since there is no control of the covariate to ensure balance).\n",
    "- For example, if older people are more likely to get A = 1, we might see distributions like this:\n",
    "\n",
    "<img src=\"./img/obs_vs_rct_distribution.png\" >"
   ]
  },
  {
   "cell_type": "markdown",
   "metadata": {},
   "source": [
    "### Matching\n",
    "\n",
    "Matching is a method that attempts to make an observational study more like a randomized trial.\n",
    "\n",
    "Main idea:\n",
    "- Match individuals in the treated group (A = 1) to individuals in the control group (A=0) on the covariates X.\n",
    "\n",
    "In the example where older people are more likely to get A = 1:\n",
    "- At younger ages, there are more people with A = 0\n",
    "- At older ages, there are more people with A = 1\n",
    "\n",
    "In a RCT, for any particular age, there should be about the same number of treated and untreated people.\n",
    "\n",
    "__By matching treated people to control people of the same age, there will be about the same number of treated and controls at any age.__"
   ]
  },
  {
   "cell_type": "markdown",
   "metadata": {},
   "source": [
    "<u> Advantages of matching </u>\n",
    "\n",
    "Controlling for confounders is acheived at the design phase (without looking at the outcome)\n",
    "- the difficult statistical work can be done completely blinded to the outcomes\n",
    "\n",
    "Matching will __reveal lack of overlap__ in covariate distribution\n",
    "- Positivity assumption will hold in the population that can be matched\n",
    "\n",
    "Once data are matched, essentially treated as if the data is produced from a randomized trial with __ensured covariate balance__."
   ]
  },
  {
   "cell_type": "markdown",
   "metadata": {},
   "source": [
    "### Single Covariate Matching\n"
   ]
  },
  {
   "cell_type": "markdown",
   "metadata": {},
   "source": [
    "Consider the following covariate distribution of a single covariate between the treatment groups.\n",
    "\n",
    "<img src=\"./img/matching_single_covariate_1.png\" >"
   ]
  },
  {
   "cell_type": "markdown",
   "metadata": {},
   "source": [
    "We can match each treated subject to a control subject\n",
    "\n",
    "<img src=\"./img/matching_single_covariate_2.png\" >\n",
    "\n",
    "and then we eliminate the excess \"blue\" subjects in the Control group.\n",
    "\n",
    "<img src=\"./img/matching_single_covariate_3.png\" >\n",
    "\n",
    "This ensures a balance in the covariate X."
   ]
  },
  {
   "cell_type": "markdown",
   "metadata": {},
   "source": [
    "### Many covariates\n",
    "\n",
    "We will not be able to exactly match on the full set of covariates.\n",
    "\n",
    "In a randomized trial, treated and control subjects are not perfect matches either.\n",
    "- The distribution of covariates is balanced between groups (stochastic balance)\n",
    "\n",
    "With observational data, matching closely on covariates can achieve stochastic balance."
   ]
  },
  {
   "cell_type": "markdown",
   "metadata": {},
   "source": [
    "Example with two covariates (sex, age)\n",
    "\n",
    "<img src=\"./img/matching_double_covariates_1.png\" >\n",
    "\n",
    "It is easy to match on discrete type covariates (sex), but not so easy to match on continuous type covariates (age).\n",
    "\n",
    "<img src=\"./img/matching_double_covariates_2.png\" >"
   ]
  },
  {
   "cell_type": "markdown",
   "metadata": {},
   "source": [
    "Note that we are making the __distribution of covariates in the control population look like that in the treated population__:\n",
    "- Doing so means we are find the causal treatment on the treated.\n",
    "\n",
    "This is represented by the following population breakdown\n",
    "\n",
    "<img src=\"./img/hypo_worlds_treated.png\" >\n",
    "\n",
    "There are matching methods that can be used to target a different population, but this requires more advanced techniques."
   ]
  },
  {
   "cell_type": "markdown",
   "metadata": {},
   "source": [
    "### Fine Balance\n",
    "\n",
    "Sometimes it is difficult to find great matches. We might be willing to accept some non-ideal matches if treated and control groups have same distribution of covariates.\n",
    "- This is known as __\"fine balance\"__.\n",
    "\n",
    "For example:\n",
    "- Match 1: \n",
    " - Treated: Male, Age 40\n",
    " - Control: Female, Age 45\n",
    "- Match 2:\n",
    " - Treated: Female, Age 45\n",
    " - Control: Male, Age 40\n",
    " \n",
    "Average age and percent female are the same in both groups, __even though neither match is great__.\n",
    "- Percentage of Male is 50% which is the same in both treatment groups\n",
    "- Average age in both treatment groups is 42.5\n",
    "\n",
    "__We achieve fine balance even though the matches are not great by tolerating non-ideal matches.__"
   ]
  },
  {
   "cell_type": "markdown",
   "metadata": {},
   "source": [
    "<u> Number of matches </u>\n",
    "- __One to one (pair matching)__\n",
    " - Match exactly one control to every treated subject\n",
    " - Discard those without matches so you might lose some efficiency\n",
    "- __Many to one__\n",
    " - Match some fixed number K controls to every treated subject (e.g., 5 to 1 matching)\n",
    "- __Variable__\n",
    " - Sometimes match 1, sometimes more than 1, control to treated subjects\n",
    "  - If multiple good matches available, use them. \n",
    "  - If not, do not."
   ]
  },
  {
   "cell_type": "markdown",
   "metadata": {},
   "source": [
    "### How to match?\n",
    "\n",
    "Because we typically cannot match exactly, we first need to choose some metric of closeness.\n",
    "\n",
    "We will consider two options (for now):\n",
    "- Mahalanobis distance\n",
    "- Robust Mahalanobis distance"
   ]
  },
  {
   "cell_type": "markdown",
   "metadata": {},
   "source": [
    "### Mahalanobis distance\n",
    "\n",
    "Denote by $X_j$ (a vector of covariates for subject j).\n",
    "\n",
    "The Mahalanobis distance between covariates for subject i and subject j is:\n",
    "\n",
    "$D(X_i, X_j) = \\sqrt{(X_i - X_j)^TS^{-1}(X_i-X_j)}$\n",
    "\n",
    "This metric is the square root of the sum of squared distances between each covariate scaled by the covariance matrix\n",
    "- We need to scale because some dimensions may be on a much larger quantum, so \"big\" should be a relative notion."
   ]
  },
  {
   "cell_type": "markdown",
   "metadata": {},
   "source": [
    "<img src=\"./img/mahalanobis_dist_1.png\" >"
   ]
  },
  {
   "cell_type": "markdown",
   "metadata": {},
   "source": [
    "### Robust Mahalanobis distance\n",
    "\n",
    "Motivation is to deal with outlier data.\n",
    "- Outliers (in a specific dimension/covariate) can create large distances between subjects, even if the covariates are otherwise similar\n",
    "- __Ranks__ might be more relevant\n",
    " - e.g. highest and second highest ranked valeus of covariates perhaps should be treated as similar, even if the values are far apart.\n",
    " \n",
    "\n",
    "Robust Mahalanobis distance:\n",
    "- Replace each covariate value with its rank\n",
    "- Constant diagonal on covariance matrix (since ranks should be on the same scale)\n",
    "- Calculate the usual Mahalanobis distance on the ranks"
   ]
  },
  {
   "cell_type": "markdown",
   "metadata": {},
   "source": [
    "### Other distance measures\n",
    "- If you want an exact match on a few important covariates, you can essentially make the distance infinity if they are not equal. \n",
    " - In other words, strong penalty/weightage for specific covariates dimensions\n",
    "- Distance on propensity score "
   ]
  },
  {
   "cell_type": "markdown",
   "metadata": {},
   "source": [
    "Once you have a distance score, how should you select matches?\n",
    "- __Greedy (nearest neighbor) matching__\n",
    " - Not as good but coputationally fast\n",
    "- __Optimal matching__\n",
    " - Better but computationally demanding."
   ]
  },
  {
   "cell_type": "code",
   "execution_count": null,
   "metadata": {},
   "outputs": [],
   "source": []
  }
 ],
 "metadata": {
  "kernelspec": {
   "display_name": "Python 3",
   "language": "python",
   "name": "python3"
  },
  "language_info": {
   "codemirror_mode": {
    "name": "ipython",
    "version": 3
   },
   "file_extension": ".py",
   "mimetype": "text/x-python",
   "name": "python",
   "nbconvert_exporter": "python",
   "pygments_lexer": "ipython3",
   "version": "3.7.6"
  }
 },
 "nbformat": 4,
 "nbformat_minor": 4
}
