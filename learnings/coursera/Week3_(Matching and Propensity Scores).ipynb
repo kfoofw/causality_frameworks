{
 "cells": [
  {
   "cell_type": "markdown",
   "metadata": {},
   "source": [
    "## Observational Studies"
   ]
  },
  {
   "cell_type": "markdown",
   "metadata": {},
   "source": [
    "We need to understand the difference between observational studies and randomised trials, and how to bridge the difference with matching."
   ]
  },
  {
   "cell_type": "markdown",
   "metadata": {},
   "source": [
    "Consider the following DAG:\n",
    "\n",
    "<img src=\"./img/dags_confounding.png\" >\n",
    "\n",
    "In this case, X is sufficient to control for confounding.\n",
    "- Ignorability assumption holds:\n",
    "\n",
    "$Y^0, Y^1 \\perp A |X$"
   ]
  },
  {
   "cell_type": "markdown",
   "metadata": {},
   "source": [
    "In a randomized trial, treatment assignment A would be determined by a coin toss.\n",
    "- This effectively erases the arrow from X to A.\n",
    "\n",
    "<img src=\"./img/dags_rct_vs_observational.png\" >"
   ]
  },
  {
   "cell_type": "markdown",
   "metadata": {},
   "source": [
    "In a randomized trial, the distribution of X will be the same in both treatment groups.\n",
    "\n",
    "<img src=\"./img/rct_population.png\" >"
   ]
  },
  {
   "cell_type": "markdown",
   "metadata": {},
   "source": [
    "In summary:\n",
    "- Distribution of preteatment variabels X that affect Y are the same in both treatment groups.\n",
    " - __Covariate balance is ensured__\n",
    "- Thus, if the outcome distribution ends up differing, it will not be because of differences in X.\n",
    "- X is dealth with at the design phase"
   ]
  },
  {
   "cell_type": "markdown",
   "metadata": {},
   "source": [
    "<u> Issues with Randomization:</u>\n",
    "- Randomized trials are expensive\n",
    "- Sometimes randomizing treatment/exposure is unethical\n",
    "- Some (many) people will refuse to partcipate in trials\n",
    "- Randomized trials take time (you have to wait for outcome data).\n",
    " - In some cases, by the time you have outcome data, the question might no longer be relevant."
   ]
  },
  {
   "cell_type": "markdown",
   "metadata": {},
   "source": [
    "<u>Observational Studies</u>\n",
    "Planned, prospective, observational studies with active data collection:\n",
    "- __Like trials:__ data collected on a commn set of variables at planned times; outcomes are carefully measured; study protocols.\n",
    "- __Unlike trials:__ regulations much weaker, since not intervening; broader population eligible for the study.\n",
    "\n",
    "Databases, retrospective, passive data collection:\n",
    "- large sample sizes; inexpensive; potential for rapid analysis\n",
    "- Data quality typically lower; no uniform standard of collection"
   ]
  },
  {
   "cell_type": "markdown",
   "metadata": {},
   "source": [
    "In observational studies, the distribution of X will differ between treatment groups (since there is no control of the covariate to ensure balance).\n",
    "- For example, if older people are more likely to get A = 1, we might see distributions like this:\n",
    "\n",
    "<img src=\"./img/obs_vs_rct_distribution.png\" >"
   ]
  },
  {
   "cell_type": "markdown",
   "metadata": {},
   "source": [
    "### Matching\n",
    "\n",
    "Matching is a method that attempts to make an observational study more like a randomized trial.\n",
    "\n",
    "Main idea:\n",
    "- Match individuals in the treated group (A = 1) to individuals in the control group (A=0) on the covariates X.\n",
    "\n",
    "In the example where older people are more likely to get A = 1:\n",
    "- At younger ages, there are more people with A = 0\n",
    "- At older ages, there are more people with A = 1\n",
    "\n",
    "In a RCT, for any particular age, there should be about the same number of treated and untreated people.\n",
    "\n",
    "__By matching treated people to control people of the same age, there will be about the same number of treated and controls at any age.__"
   ]
  },
  {
   "cell_type": "markdown",
   "metadata": {},
   "source": [
    "<u> Advantages of matching </u>\n",
    "\n",
    "Controlling for confounders is acheived at the design phase (without looking at the outcome)\n",
    "- the difficult statistical work can be done completely blinded to the outcomes\n",
    "\n",
    "Matching will __reveal lack of overlap__ in covariate distribution\n",
    "- Positivity assumption will hold in the population that can be matched\n",
    "\n",
    "Once data are matched, essentially treated as if the data is produced from a randomized trial with __ensured covariate balance__."
   ]
  },
  {
   "cell_type": "markdown",
   "metadata": {},
   "source": [
    "### Single Covariate Matching\n"
   ]
  },
  {
   "cell_type": "markdown",
   "metadata": {},
   "source": [
    "Consider the following covariate distribution of a single covariate between the treatment groups.\n",
    "\n",
    "<img src=\"./img/matching_single_covariate_1.png\" >"
   ]
  },
  {
   "cell_type": "markdown",
   "metadata": {},
   "source": [
    "We can match each treated subject to a control subject\n",
    "\n",
    "<img src=\"./img/matching_single_covariate_2.png\" >\n",
    "\n",
    "and then we eliminate the excess \"blue\" subjects in the Control group.\n",
    "\n",
    "<img src=\"./img/matching_single_covariate_3.png\" >\n",
    "\n",
    "This ensures a balance in the covariate X."
   ]
  },
  {
   "cell_type": "markdown",
   "metadata": {},
   "source": [
    "### Many covariates\n",
    "\n",
    "We will not be able to exactly match on the full set of covariates.\n",
    "\n",
    "In a randomized trial, treated and control subjects are not perfect matches either.\n",
    "- The distribution of covariates is balanced between groups (stochastic balance)\n",
    "\n",
    "With observational data, matching closely on covariates can achieve stochastic balance."
   ]
  },
  {
   "cell_type": "markdown",
   "metadata": {},
   "source": [
    "Example with two covariates (sex, age)\n",
    "\n",
    "<img src=\"./img/matching_double_covariates_1.png\" >\n",
    "\n",
    "It is easy to match on discrete type covariates (sex), but not so easy to match on continuous type covariates (age).\n",
    "\n",
    "<img src=\"./img/matching_double_covariates_2.png\" >"
   ]
  },
  {
   "cell_type": "markdown",
   "metadata": {},
   "source": [
    "Note that we are making the __distribution of covariates in the control population look like that in the treated population__:\n",
    "- Doing so means we are find the causal treatment on the treated.\n",
    "\n",
    "This is represented by the following population breakdown\n",
    "\n",
    "<img src=\"./img/hypo_worlds_treated.png\" >\n",
    "\n",
    "There are matching methods that can be used to target a different population, but this requires more advanced techniques."
   ]
  },
  {
   "cell_type": "markdown",
   "metadata": {},
   "source": [
    "### Fine Balance\n",
    "\n",
    "Sometimes it is difficult to find great matches. We might be willing to accept some non-ideal matches if treated and control groups have same distribution of covariates.\n",
    "- This is known as __\"fine balance\"__.\n",
    "\n",
    "For example:\n",
    "- Match 1: \n",
    " - Treated: Male, Age 40\n",
    " - Control: Female, Age 45\n",
    "- Match 2:\n",
    " - Treated: Female, Age 45\n",
    " - Control: Male, Age 40\n",
    " \n",
    "Average age and percent female are the same in both groups, __even though neither match is great__.\n",
    "- Percentage of Male is 50% which is the same in both treatment groups\n",
    "- Average age in both treatment groups is 42.5\n",
    "\n",
    "__We achieve fine balance even though the matches are not great by tolerating non-ideal matches.__"
   ]
  },
  {
   "cell_type": "markdown",
   "metadata": {},
   "source": [
    "<u> Number of matches </u>\n",
    "- __One to one (pair matching)__\n",
    " - Match exactly one control to every treated subject\n",
    " - Discard those without matches so you might lose some efficiency\n",
    "- __Many to one__\n",
    " - Match some fixed number K controls to every treated subject (e.g., 5 to 1 matching)\n",
    "- __Variable__\n",
    " - Sometimes match 1, sometimes more than 1, control to treated subjects\n",
    "  - If multiple good matches available, use them. \n",
    "  - If not, do not."
   ]
  },
  {
   "cell_type": "markdown",
   "metadata": {},
   "source": [
    "### How to match?\n",
    "\n",
    "Because we typically cannot match exactly, we first need to choose some metric of closeness.\n",
    "\n",
    "We will consider two options (for now):\n",
    "- Mahalanobis distance\n",
    "- Robust Mahalanobis distance"
   ]
  },
  {
   "cell_type": "markdown",
   "metadata": {},
   "source": [
    "### Mahalanobis distance\n",
    "\n",
    "Denote by $X_j$ (a vector of covariates for subject j).\n",
    "\n",
    "The Mahalanobis distance between covariates for subject i and subject j is:\n",
    "\n",
    "$D(X_i, X_j) = \\sqrt{(X_i - X_j)^TS^{-1}(X_i-X_j)}$\n",
    "\n",
    "This metric is the square root of the sum of squared distances between each covariate scaled by the covariance matrix\n",
    "- We need to scale because some dimensions may be on a much larger quantum, so \"big\" should be a relative notion."
   ]
  },
  {
   "cell_type": "markdown",
   "metadata": {},
   "source": [
    "<img src=\"./img/mahalanobis_dist_1.png\" >"
   ]
  },
  {
   "cell_type": "markdown",
   "metadata": {},
   "source": [
    "### Robust Mahalanobis distance\n",
    "\n",
    "Motivation is to deal with outlier data.\n",
    "- Outliers (in a specific dimension/covariate) can create large distances between subjects, even if the covariates are otherwise similar\n",
    "- __Ranks__ might be more relevant\n",
    " - e.g. highest and second highest ranked valeus of covariates perhaps should be treated as similar, even if the values are far apart.\n",
    " \n",
    "\n",
    "Robust Mahalanobis distance:\n",
    "- Replace each covariate value with its rank\n",
    "- Constant diagonal on covariance matrix (since ranks should be on the same scale)\n",
    "- Calculate the usual Mahalanobis distance on the ranks"
   ]
  },
  {
   "cell_type": "markdown",
   "metadata": {},
   "source": [
    "### Other distance measures\n",
    "- If you want an exact match on a few important covariates, you can essentially make the distance infinity if they are not equal. \n",
    " - In other words, strong penalty/weightage for specific covariates dimensions\n",
    "- Distance on propensity score "
   ]
  },
  {
   "cell_type": "markdown",
   "metadata": {},
   "source": [
    "Once you have a distance score, how should you select matches?\n",
    "- __Greedy (nearest neighbor) matching__\n",
    " - Not as good but coputationally fast\n",
    "- __Optimal matching__\n",
    " - Better but computationally demanding."
   ]
  },
  {
   "cell_type": "markdown",
   "metadata": {},
   "source": [
    "### Greedy (nearest neighbor) matching\n",
    "\n",
    "Experiment Setup:\n",
    "- Selected a set of pre-treatment covariates X that (hopefully) satisfy the ignoraibility assumption\n",
    "- You have calculated a distance $d_{ij}$ between each treated subject with every control subject\n",
    "- You have many more controls subjects than treated subjects\n",
    " - This is often the case in observational studies\n",
    "- Focus is on pair (one-to-one) matching "
   ]
  },
  {
   "cell_type": "markdown",
   "metadata": {},
   "source": [
    "Steps:\n",
    "1. Randomly order list of treated subejcts and control subjects\n",
    "2. Start with the first trated subject. Match to the control with the smallest distance (this is greedy).\n",
    "3. Remove the matched control from the list of available matches.\n",
    "4. Move on to the next treated subject. Match tot he control with the smallest distance.\n",
    "5. Repeat steps 3 and 4 until you have matched all treated subjects."
   ]
  },
  {
   "cell_type": "markdown",
   "metadata": {},
   "source": [
    "<u> Greedy Matching</u>\n",
    "- Intuitive \n",
    "- Computationally fast\n",
    "    - Involves a series of simple algorithms (identifying min distance)\n",
    "    - Fast even for large data sets\n",
    "    - R package: MatchIt\n",
    "- Not invariant to intial order of list\n",
    "- Not optimal\n",
    "    - Always taking the smallest distance match does not minimize total distance\n",
    "    - Can lead to some bad matches"
   ]
  },
  {
   "cell_type": "markdown",
   "metadata": {},
   "source": [
    "<u> Many-to-one Matching</u>\n",
    "- For k:1 matching:\n",
    "    - After everyone has 1 match, go through the list again and find 2nd matches from the remaining pool"
   ]
  },
  {
   "cell_type": "markdown",
   "metadata": {},
   "source": [
    "<u> Tradeoffs</u>\n",
    "- Pair matching\n",
    "    - Closer matches\n",
    "    - Faster computing time\n",
    "- Many-to-one\n",
    "    - Larger sample size\n",
    "- Largely a bias-variance tradeoff issue\n",
    "    - Pair matching has less bias because the matching is closer, but it should be less efficient because you are discarding data.\n",
    "    - Many to one matching has more bias, but smaller variance.\n",
    "- Note that the efficiency gain for using \"many-to-one\" is not as much as if you were adding an additional treated subject that you can find matches for in the control subjects."
   ]
  },
  {
   "cell_type": "markdown",
   "metadata": {},
   "source": [
    "<u> Caliper </u>\n",
    "- We might prefer to exclude treated subjects for whom there does not exist a good match.\n",
    "- A bad match can be defined using a caliper (max acceptable distance)\n",
    "    - Only match a treated subject if the best control match has distance less than the caliper\n",
    "    - Otherwise, get rid of that treated subject\n",
    "    - Recall positivity assumption (prob of each treatment given X should be non-zero): \n",
    "        - If no matches within caliper, it is a sign that positivity assumption would be violated.\n",
    "        - Excluding these subjects makes assumption more realistic\n",
    "        - Drawback: population might be hard to define"
   ]
  },
  {
   "cell_type": "markdown",
   "metadata": {},
   "source": [
    "### Optimal Matching\n",
    "- Greedy matching is not typically optimal\n",
    "- Optimal matching\n",
    "    - Minimizes global distance measure\n",
    "    - Computationally demanding\n",
    "    - R packages:\n",
    "        - `optmatch`\n",
    "        - `rcbalance`\n",
    "\n",
    "Feasibility:\n",
    "- Where or not it is feasible to perform optimal matching depends on the size of the problem.\n",
    "- Constraints can be imposed to make optimal matching computationally feasible for larger data sets.\n",
    "    - For example:\n",
    "        - Match within hospitals in a multi-site clinical study\n",
    "        - Match within primary disease categoy\n",
    "        - These are \"blocks\"\n",
    "    - This is known as sparse matching\n",
    "        - Mismatches can be tolerated if fine balance can still be achieved."
   ]
  },
  {
   "cell_type": "markdown",
   "metadata": {},
   "source": [
    "### Assessing Balance\n",
    "\n",
    "<u> Did matching work? </u>\n",
    "- After you ahve matched, you should assess whether matching worked.\n",
    "    - __Covariate balance__\n",
    "        - Standardized differences\n",
    "            - Similar means?\n",
    "    - __This can/should be done without looking at the outcome__\n",
    "- Commonly, a \"Table 1\" is created, where pre-matching and post-matching balance is compared."
   ]
  },
  {
   "cell_type": "markdown",
   "metadata": {},
   "source": [
    "<u> Hypothesis Tests and p-values </u>\n",
    "- Balance can be assessed with hypothesis tests\n",
    "    - i.e., test for a difference in means between treated and controls for each covariate\n",
    "        - Two sample t-tests (for continuous covariates) or chi-square test (for discrete covariates) and report p-value for each test\n",
    "    - Drawback:\n",
    "        - p-values are dependent on sample size\n",
    "        - Small differences in means will have a small p-value if the sample size is large (which is often in most cases).\n",
    "            - We probably do not care much if mean differences are small.\n"
   ]
  },
  {
   "cell_type": "markdown",
   "metadata": {},
   "source": [
    "<u> Standardised differences </u>\n",
    "\n",
    "A standardised difference is the difference in means between groups, divided by the (pooled) standard deviation.\n",
    "\n",
    "<img src=\"./img/standardised_diff_formula.png\" >\n",
    "\n",
    "Standardised differences:\n",
    "- Does not depend on sample size\n",
    "- Often, absolue value of smd is reported (ignore polarity)\n",
    "- Calculate for each variable that you match on\n",
    "\n",
    "Rules of thumb:\n",
    "- Values < 0.1 indicate adequate balance\n",
    "- Values 0.1 to 0.2 are not too alarming\n",
    "- Values > 0.2 indicate serious imbalance"
   ]
  },
  {
   "cell_type": "markdown",
   "metadata": {},
   "source": [
    "### Table 1\n",
    "\n",
    "<img src=\"./img/table1_1.png\" >\n",
    "\n",
    "### SMD Plot with Threshold = 0.1\n",
    "<img src=\"./img/smd_plot.png\" >\n"
   ]
  },
  {
   "cell_type": "markdown",
   "metadata": {},
   "source": [
    "### Analysing Data After Matching\n",
    "\n",
    "After successfully matching and acheiving adequate balance (SMD for each covariate <=0.1), we can proceed with outcome analysis.\n",
    "- Test for a treatment effect\n",
    "- Estimate a treatment effect and confidence interval\n",
    "- Methods should take matching into account\n",
    "\n",
    "<u> __Randomisation tests (Binomial data)__ </u>\n",
    "\n",
    "Randomisation tests are tests that you can use if you already have data from a randomised trial. These tests are also known as:\n",
    "- Permutation tests\n",
    "- Exact tests\n",
    "\n",
    "Main idea:\n",
    "- Compute test statistic from __observed data__\n",
    "- Assume null hypothesis of __no treatment effect__ is true\n",
    "- Randomly __permute treatment assignment__ within pairs and re-compute test statistic.\n",
    "- Repeat many times and see how unusual the observed statistic is under the assumption of the null hypothesis.\n",
    "\n",
    "Toy Example:\n",
    "- Suppose we have a binary outomce and 13 matched pairs\n",
    "- We will use as the test statistic the number of events in the treated group. \n",
    "\n",
    "__Discordant pairs__\n",
    "- The only pairs between control and treated groups that can change under permutation.\n",
    "- Under the null hypothesis, the treatment and control groups are the same so it should be ok to swap their results.\n",
    "\n",
    "<img src=\"./img/discordant_pairs.png\" >\n",
    "\n",
    "Methodology:\n",
    "- Through randomisation, one can flip/swap the results of the data for the discordant pairs. For example, if Treated = 1 and Control = 0, the flipped case will be Treated = 0 and Control = 1. \n",
    "- To be specific, for each discordant pair, you flip a coin: If heads, you swap. If tails, you keep it the same.\n",
    "- Test statistic is then recalculated when permutation randomisation is performed for all the discordant pairs.\n",
    "- Repeat permutations multiple time and record the test statistic to obtain the distribution of the test statistic under the null hypothesis."
   ]
  },
  {
   "cell_type": "markdown",
   "metadata": {},
   "source": [
    "__McNemar test__\n",
    "- This test is equivalent to the __McNemar test for paired binomial data__\n",
    "- In R, use the `mcnemar.test(contrast_table)` function, where `contrast_table` is a matrix comprising of the 2 by 2 table of Control vs Treatment group outcome.\n",
    "\n",
    "<img src=\"./img/mcnemar_test.png\" >"
   ]
  },
  {
   "cell_type": "markdown",
   "metadata": {},
   "source": [
    "<u> __Randomisation tests (Continuous data)__ </u>\n",
    "- Basic approach also works for continuous data\n",
    "- Test statistic is the difference in sample means between treatment and control group.\n",
    "\n",
    "Methodology:\n",
    "- For continuous data, there's no notion of discordant pairs.\n",
    "- Likewise, under the null hypothesis assumption, there is no difference between the treatment and control group. Thus, we can __swap the data within each pair__.\n",
    "- For each observation pair of control and treatment subject, we can randomly permute the labels \n",
    "- The test statistic is then re-calculated. \n",
    "- We can perform multiple permutation and obtain the distribution of the statistic under the null hypothesis.\n",
    "\n",
    "<img src=\"./img/randomised_tests_continuous.png\" >\n",
    "\n",
    "__Paired T-test__: \n",
    "- We can use a paired t-test in R with `t.test(treatment_vct, control_vct, paired = TRUE)`"
   ]
  },
  {
   "cell_type": "markdown",
   "metadata": {},
   "source": [
    "<u> Other outcome models </u>\n",
    "- Conditional logistic regression\n",
    "    - Matched binary outcome data\n",
    "- Stratified Cox model\n",
    "    - Time-to-event (survival) outcome data\n",
    "    - Baseline hazard stratefied on matched sets\n",
    "- Generalized estimating equations (GEE)\n",
    "    - Match ID variable used to specify clusters\n",
    "    - For binary outcomes, can estimate a causal risk difference, causal risk ratio, or causal odds ratio (depending on link function)"
   ]
  },
  {
   "cell_type": "markdown",
   "metadata": {},
   "source": [
    "### Sensitivity Analysis\n",
    "\n",
    "<u> Motivations: Hidden bias </u>\n",
    "- Matching aims to achieve balance on observed covariates\n",
    "    - __Overt bias__ could occur if there was imbalance on observed covariates (if we did not fully control for these variables)\n",
    "- There is no guarantee matching will result in balance on variables that we did not match on (including unobserved variables).\n",
    "    - If these unobserved variables are confounders, then we have __hidden bias__\n",
    "        - Implications are that the ignorability assumption is violated.\n",
    "    \n",
    "__Sensitivity Analysis:__\n",
    "- If there is hidden bias, determine how severe it would have to be to __change conclusions__:\n",
    "    - Change from statisically significant to not\n",
    "    - Change in direction of effect\n",
    "    \n",
    "Example with Terminology:\n",
    "- Let $\\pi_j$ be the probability that person j receives treatment\n",
    "- Let $\\pi_k$ be the probability that person k receives treatment\n",
    "- Suppose that person j and k are perfectly matched, so that their observed covariates, $X_j$ and $X_k$, are the same\n",
    "- If $\\pi_j = \\pi_k$  then there is no hidden bias.\n",
    "- Consider the following inequality:\n",
    "\n",
    "$\\frac{1}{\\Gamma} \\le \\frac{\\frac{\\pi_j}{1 - \\pi_j}}{\\frac{\\pi_k}{1-\\pi_k}} \\le \\Gamma$  \n",
    "$\\frac{1}{\\Gamma} \\le \\frac{Odds\\ of\\ treatment\\ for\\ person\\ j}{Odds\\ of\\ treatment\\ for\\ person\\ k} \\le \\Gamma$\n",
    "\n",
    "- $\\Gamma$ is odds ratio\n",
    "    - If $\\Gamma = 1$, then no overt bias\n",
    "    - If $\\Gamma > 1$, then it implies hidden bias"
   ]
  },
  {
   "cell_type": "markdown",
   "metadata": {},
   "source": [
    "- Suppose we have evidence of a treatment effect.\n",
    "    - This is under the assumption that \\$Gamma$ = 1 (assume no hidden bias)\n",
    "- We can then increase $\\Gamma$ until evidence of treatment effect goes away (i.e. no longer statistically significant).\n",
    "    - If this happens when \\$Gamma = 1.1$, then it is __very sensitive__ to unmeasured confounding (hidden bias).\n",
    "    - If it does not happen until $\\Gamma = 5$, then it is __not very sensitive__ to hidden bias.\n",
    "    \n",
    "R packages for sensitivity analysis:\n",
    "- `sensitivity2x2xk` \n",
    "- `sensitivityfull`"
   ]
  },
  {
   "cell_type": "markdown",
   "metadata": {},
   "source": [
    "# General Workflow in R\n",
    "- Matching\n",
    "    - With data, create TableOne comparison of SMD based on \"treatment\" strata\n",
    "        - `CreateTableOne(vars = xvars, strata = \"treatment\", data = mydata, test = FALSE)`\n",
    "    - Perform Matching (greedy or optimal) on the data using Mahalanobis distance\n",
    "        - `greedymatch <- Match(Tr = treatment, M = 1, X = mydata[xvars])`\n",
    "        - `matched <- mydata[unlist(greedymatch[c(\"index.treated\", \"index.control\")]),]`\n",
    "    - With matched data, create TableOne comparison of SMD\n",
    "        - `CreateTableOne(vars = xvars, strata = \"treatment\", data = matched, test = FALSE)`\n",
    "        - Note that the effective `n` paired samples will be smaller than the original data's  TableOne\n",
    "- Outcome analysis\n",
    "    - If we want a causal risk difference, carry out a paired t-test using vectors from matched data\n",
    "        - `y_trt <- matched$died[matched$treatment == 1]`\n",
    "        - `y_con <- matched$died[matched$treatment == 0]`\n",
    "        - `diffy <- y_trt - y_con`\n",
    "        - `t.test(diffy)`\n",
    "    - McNemar test\n",
    "        - `table(y_trt, y_con)`\n",
    "        - `mcnemar.test(matrix(c(994,493,394,305),2,2))`, where index 2 and 3 elements are the discordant pairs.\n",
    "            - 493 and 394 are the discordant pairs\n",
    "    \n",
    "    "
   ]
  },
  {
   "cell_type": "markdown",
   "metadata": {},
   "source": [
    "### Propensity Scores\n",
    "\n",
    "The propensity score is the probability of receiving treatment, rahter than control, given covariates X.\n",
    "- Define A = 1 for treatmment and A = 0 for control\n",
    "- Propensity score for subject i by $\\pi_i$.\n",
    "- __Propensity is a function of covariates.__\n",
    "\n",
    "$\\pi_i = P(A=1|X_i)$\n",
    "\n",
    "Example:\n",
    "- Suppose age was the only X variable, and older people are more likely to get treatment.\n",
    "- Then propensity score would be larger for older ages\n",
    "    - P(A=1|age = 60) > P(A=1|age = 30)\n",
    "    - $\\pi_i > \\pi_j$ if $age_i > age_j$"
   ]
  },
  {
   "cell_type": "markdown",
   "metadata": {},
   "source": [
    "<u> Balancing Score </u>\n",
    "- Suppose  2 subjects have the same value of the propensity score, but they possibly have __different__ covariate values X.\n",
    "    - Despite the different covariate values, they were both equally likely to have been treated.\n",
    "        - This means that both subjects' X is __just as likely__ to be found in the treatment group. \n",
    "        - If you restrict to a subpopulation of subjects who have teh same value of the propensity score, there should be balance in the two treatment groups.\n",
    "        - The propensity score is a __balancing score__.\n",
    "\n",
    "A balancing score is something where if you condition on it, you will have balance. \n",
    "- Propensity score is an example of a balancing score.\n",
    "    - If we __restrict our analysis to people who have only the same value for the propensity score__, then if we __stratify on the actual treatment received__, we should see the __same distribution of covariates (Xs) in those two treatment groups__."
   ]
  },
  {
   "cell_type": "markdown",
   "metadata": {},
   "source": [
    "More formally,\n",
    "\n",
    "$P(X = x| \\pi(X) = p, A = 1) = P(X = x | \\pi(X) = p, A = 0) $\n",
    "\n",
    "Implication: if we __match on the propensity score__, we should achieve balance.\n",
    "- This makes sense since we assumed ignorability that treatment is randomized given X.\n",
    "    - Conditioning on the propensity score is conditioning on an __allocation probability__.\n",
    "        - If allocation probability = 0.3, prob of treatment = 0.3, prob of control = 0.7"
   ]
  },
  {
   "cell_type": "markdown",
   "metadata": {},
   "source": [
    "__Estimated Propensity Score__\n",
    "- In a randomised trial, the propensity score is generally known.\n",
    "    - e.g. $ P(A=1|X) = P(A=1) = 0.5$\n",
    "- In an observational study, it will be unknown.\n",
    "    - Notice however that the propensity score involves observed data: A and X.\n",
    "        - We therefore can estimate it.\n",
    "        - Typically when people talk about a propensity score they are referring to the estimated propensity score."
   ]
  },
  {
   "cell_type": "markdown",
   "metadata": {},
   "source": [
    "__Methodology for estimating $P(A=1|X)$__:\n",
    "- Outcome here is treatment variable A, which is binary.\n",
    "- Use logistic regression to estimate the propensity score. \n",
    "    - Other ML methods can also be used to estimate\n",
    "- Fit a logistic regression model (outcome A, covariates X)\n",
    "- From that model, obtain the predicted probability (fitted value) for each subject\n",
    "    - That is the estimated propensity score for each subject.\n",
    "    "
   ]
  },
  {
   "cell_type": "markdown",
   "metadata": {},
   "source": [
    "<u> __Propensity Score Matching__ </u>\n",
    "- Propensity score is a __balancing score__\n",
    "    - Matching on the propensity score should achieve balance\n",
    "- Propensity score is a scalar where each subject will have exactly one value of the propensity score\n",
    "    - The matching problem is simplified in that we are only matching on one variable\n",
    "    \n",
    "__Overlap__\n",
    "- Once the __propensity score is estimated, but before matching__, it is useful to look for overlap.\n",
    "    - Compare the distribution of the propensity score for treated and control subjects\n",
    "    "
   ]
  },
  {
   "cell_type": "markdown",
   "metadata": {},
   "source": [
    "__Good Overlap of Propensity Scores__\n",
    "<img src=\"./img/propensitymatching_good.png\" >\n",
    "\n",
    "__Poor Overlap of Propensity Scores__\n",
    "<img src=\"./img/propensitymatching_poor.png\" >"
   ]
  },
  {
   "cell_type": "markdown",
   "metadata": {},
   "source": [
    "__Trimming Tails:__\n",
    "- If there is a lack of overlap, trimming the tails is an option.\n",
    "    - This means removing subjects who have extreme values of the propensity score\n",
    "    - For example:\n",
    "        - Removing control subjects whose propensity score is less than the min in the treatment group\n",
    "        - Removing treated subjects whose propensity score is greater than the max in the control group\n",
    "- Trimming tails makes the positivity assumption more reasonable\n",
    "    - Prevents extrapolation\n"
   ]
  },
  {
   "cell_type": "markdown",
   "metadata": {},
   "source": [
    "__Matching (on Propensity Scores):__\n",
    "-  We can proceed by __computing a distance between the propensity score for each treated subject with every control subject__.\n",
    "    - Then use nearest neighbor or optimal matching as before.\n",
    "    - Same steps as before, except distance is now based off on propensity score only as opposed to a distance based on a collection of covariates.\n",
    "- In practice, logit (log odds) of the propensity socre is often used rahter than the propensity score itself\n",
    "    - The propensity score is bound between 0 and 1, making many values seem similar\n",
    "    - Logit of propensity score is unbounded (this transformation essentially stretches the distribution while preserving ranks)\n",
    "    - Match on logit($\\pi$) rahter than $\\pi$."
   ]
  },
  {
   "cell_type": "markdown",
   "metadata": {},
   "source": [
    "__Caliper:__\n",
    "- To ensure that we do not accept any bad matches, a caliper can be used.\n",
    "    - Recall that a caliper is the max distance tht we are willing to tolerate.\n",
    "- In practice, a common choice for a caliper is the 0.2 times the standard deviation of logit of the propensity score.\n",
    "    1. Estimat ehte propensity score (e.g. using logistic regression)\n",
    "    2. logit-transform the propensity score\n",
    "    3. Take the standard deviation of this transformed variable\n",
    "    4. Set the caliper ot 0.2 times the value from step 3.\n",
    "- This is commonly done in practice because it seems to work well, but it is somewhat arbitrary.\n",
    "    - Smaller caliper: less bias, more variance."
   ]
  },
  {
   "cell_type": "markdown",
   "metadata": {},
   "source": [
    "__After matching__\n",
    "- The outcome analysis methods can be the same as would be used if matching directly on covariates.\n",
    "    - Randomization tests\n",
    "    - Conditional logistic regression, GEE ,Stratified Cox model"
   ]
  },
  {
   "cell_type": "markdown",
   "metadata": {},
   "source": [
    "# General Workflow in R\n",
    "- __Fit propensity score model using original data__\n",
    "    - Use log-reg model\n",
    "        - `psmodel <- glm(treatment ~ X1+ X2 + X3 , family = binomial(), data= mydata)`\n",
    "        - `summary(psmodel)`\n",
    "    - Obtain predicted propensity score for each subject\n",
    "        - `pscore <- psmodel$fitted.values`\n",
    "- __Check on Overlap of propensity scores (PRE-MATCHING)__\n",
    "    - Plot of propensity score with custom R code\n",
    "        - <img src=\"./img/propensitymatching_R_1.png\" >\n",
    "- __Matching on Propensity Scores__\n",
    "    - Use R package `MatchIt` to perform matching using nearest neighbor\n",
    "        - `m.out <- matchit(treatment ~ X1 + X2 + X3, data = mydata, method = \"nearest\")`\n",
    "        - `summary(m.out)`\n",
    "        - `plot(m.out, type = \"jitter\")`\n",
    "            - <img src=\"./img/propensitymatching_R_2.png\" >\n",
    "        - `plot(m.out, type = \"hist\")`\n",
    "            - <img src=\"./img/propensitymatching_R_3.png\" >\n",
    "    - Use R package `Match` to perform matching using greedy matching \n",
    "        - Match on \"logit(propensity_score)\" WITHOUT a caliper\n",
    "            - `psmatch <- Match(Tr =mydata$treatment, M = 1, X = logit(pscore), replace = FALSE)`\n",
    "            - `matched <- mydata[unlist(psmatch[c(\"index.treated\", \"index.control\")]),]`\n",
    "            - `xvars <- c(\"X1\",\"X2\",\"X3\")`\n",
    "            - `matchedtab1 <- CreateTableOne(vars = xvars, strata = \"treatment\", data = matched, test = FALSE)`\n",
    "        - Match on \"logit(propensity_score)\" WITH a caliper\n",
    "            - `psmatch <- Match(Tr =mydata$treatment, M = 1, X = logit(pscore), replace = FALSE, caliper = 0.2)`\n",
    "            - `matched <- mydata[unlist(psmatch[c(\"index.treated\", \"index.control\")]),]`\n",
    "            - `xvars <- c(\"X1\",\"X2\",\"X3\")`\n",
    "            - `matchedtab1 <- CreateTableOne(vars = xvars, strata = \"treatment\", data = matched, test = FALSE)`\n",
    "    - With matched data, create TableOne comparison of SMD\n",
    "        - `CreateTableOne(vars = xvars, strata = \"treatment\", data = matched, test = FALSE)`\n",
    "        - Note that the effective `n` paired samples will be smaller than the original data's  TableOne\n",
    "- __Outcome analysis__\n",
    "    - If we want a causal risk difference, carry out a paired t-test using vectors from matched data\n",
    "        - `y_trt <- matched$died[matched$treatment == 1]`\n",
    "        - `y_con <- matched$died[matched$treatment == 0]`\n",
    "        - `diffy <- y_trt - y_con`\n",
    "        - `t.test(diffy)`\n",
    "    - McNemar test\n",
    "        - `table(y_trt, y_con)`\n",
    "        - `mcnemar.test(matrix(c(994,493,394,305),2,2))`, where index 2 and 3 elements are the discordant pairs.\n",
    "            - 493 and 394 are the discordant pairs\n",
    "    \n",
    "    "
   ]
  },
  {
   "cell_type": "markdown",
   "metadata": {},
   "source": []
  },
  {
   "cell_type": "markdown",
   "metadata": {},
   "source": []
  },
  {
   "cell_type": "markdown",
   "metadata": {},
   "source": []
  }
 ],
 "metadata": {
  "kernelspec": {
   "display_name": "Python 3",
   "language": "python",
   "name": "python3"
  },
  "language_info": {
   "codemirror_mode": {
    "name": "ipython",
    "version": 3
   },
   "file_extension": ".py",
   "mimetype": "text/x-python",
   "name": "python",
   "nbconvert_exporter": "python",
   "pygments_lexer": "ipython3",
   "version": "3.7.6"
  }
 },
 "nbformat": 4,
 "nbformat_minor": 4
}
