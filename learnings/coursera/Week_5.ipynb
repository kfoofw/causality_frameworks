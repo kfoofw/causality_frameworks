{
 "cells": [
  {
   "cell_type": "markdown",
   "metadata": {},
   "source": [
    "## Week 5: Instrumental Variables:\n",
    "\n",
    "Instrumental Variables are used to deal with confounding situations.\n",
    "\n",
    "Notation:\n",
    "- A is Treatment\n",
    "- Y is outcome\n",
    "- X is measured confounder(s)\n",
    "- U is unmeasured confounder(s)\n"
   ]
  },
  {
   "cell_type": "markdown",
   "metadata": {},
   "source": [
    "### Confounding diagram\n",
    "\n",
    "<img src=\"./img/IV_confounding.png\" >\n",
    "\n",
    "- If X is observed, we can analyze data using:\n",
    " - Matching\n",
    " - Propensity Scoring Matching\n",
    " - Inverse Propensity Treatment Weighting\n",
    " \n",
    "However, if there are unmeasured confounding variables that we cannot control for, this poses a problem.\n",
    "\n",
    "### Unmeasured Confounding Diagram:\n",
    "\n",
    "<img src=\"./img/IV_unmeasured_confounding.png\" >\n",
    "\n",
    "- Implications: Ignorability assumption is violated. Even if we condition on X, treatment would still not be randomised. \n",
    " - Potential outcomes $Y^0, Y^1$ not $\\perp A | X$\n"
   ]
  },
  {
   "cell_type": "markdown",
   "metadata": {},
   "source": [
    "### Instrumental Variables Diagram:\n",
    "\n",
    "<img src=\"./img/IV_instrumental_variables.png\" >\n",
    "\n",
    "- Z is an IV: It affects treatment but does not directly affect the outcome\n",
    "- It can be thought of as __an encouragement which is randomized__. \n",
    " - For higher values of Z, subjects are more likely to get the treatment.\n",
    "- Implications: some part of treatment is being explained by something that is random\n"
   ]
  },
  {
   "cell_type": "markdown",
   "metadata": {},
   "source": [
    "### Terminology:\n",
    "\n",
    "Intention-to-treat (ITT) analysis focuses on the __causal effect of encouragement Z on outcome Y__:\n",
    "- $E(Y^{Z=1}) - E(Y^{Z=0})$   \n",
    "\n",
    "Note that this is not the same as the __causal effect of treatment A on outcome Y__: \n",
    "- $E(Y^{A=1}) - E(Y^{A=0})$\n",
    "\n",
    "Setup (Randomized trial)\n",
    "- Z: randomization to treatment (1 if randomized to treatment, 0 otherwise)\n",
    "- A: treatment received (1 if received treatment, 0 otherwise)\n",
    "- Y: outcome\n",
    "\n",
    "Potential Treatment:\n",
    "- Observed data: (Z, A, Y)\n",
    "- Each subject has two potential values of treatment:\n",
    " - Value of treatment if randomized to Z = 1: $A^{Z=1} = A^1$\n",
    " - Value of treatment if randomized to Z = 0: $A^{Z=0} = A^0$\n"
   ]
  },
  {
   "cell_type": "markdown",
   "metadata": {},
   "source": [
    "### Compliance & Non Compliance:\n",
    "Non-compliance can come from confounding variables, and thus it is essential to keep track of these variables (as typically represented by X).\n",
    "\n",
    "### Causal Effect of Assignment on Receipt\n",
    "Average causal effect of treatment assignment on treatment received is $E(A^1 - A^0)$. \n",
    "\n",
    "This represents the proportion treated if everyone had been assigned to receive treatment minus the proportion treated if no one had been assigned to receive the treatment. \n",
    "- If there is perfect compliance (everybody did what they were told), this would be equal to 1.\n",
    "\n",
    "To calculate it, we can estimate it from observed data (by __randomization__ and __consistency__):\n",
    "- $E(A^1) = E(A|Z=1)$\n",
    "- $E(A^0) = E(A|Z=0)$ \n",
    "\n",
    "We can reduce the causal association (involving potential outcomes) to a statistical association (involving conditioning on observed data) because of randomization, since the subpopulation upon conditioning of Z is representative of the general population."
   ]
  },
  {
   "cell_type": "markdown",
   "metadata": {},
   "source": [
    "### Causal Effect of Assignment on Outcome\n",
    "Average causal effect of treatment assignment on the outcome is $E(Y^{Z=1} - Y^{Z=0})$, and also known as ITT.\n",
    "\n",
    "This represents the average values of the outcomes if everyone had been assigned to receive treatment minus the average outcome if no one had been assigned to receive treatment.\n",
    "- If there is perfect compliance, this would be equal to the causal effect of treatment E(YA=1 - YA=0)\n",
    "\n",
    "To calculate it, we can estimate it from observed data (by __randomization__ and __consistency__):\n",
    "- $E(Y^{Z=1}) = E(Y|Z=1)$\n",
    "- $E(Y^{Z=0}) = E(Y|Z=0)$\n"
   ]
  },
  {
   "cell_type": "markdown",
   "metadata": {},
   "source": [
    "### Compliance classes\n",
    "We can think of the compliance classes as subpopulations of people, as illustrated by the following table:\n"
   ]
  },
  {
   "cell_type": "markdown",
   "metadata": {},
   "source": [
    "|$A^0$|$A^1$|Label|Treatment Assignment Implications|\n",
    "|-|-|-|-|\n",
    "|0|0|Never-takers|No variation|\n",
    "|0|1|Compliers|Randomised assignment|\n",
    "|1|0|Defiers|Randomised assignment but opposite|\n",
    "|1|1|Always-takers|No variation|"
   ]
  },
  {
   "cell_type": "markdown",
   "metadata": {},
   "source": [
    "Key motivation for using IV methods is to tackle possible unmeasured confounding. If there is unmeasured confounding, we cannot marginalize/condition over all confounders (via matching, IPTW, etc) since they are unmeasurable. \n",
    "\n",
    "However, IV methods do not focus on the average causal effect on the population, but on a __local average treatment effect__ (namely on the compliers subpopulation).\n"
   ]
  },
  {
   "cell_type": "markdown",
   "metadata": {},
   "source": [
    "### Local Average Treatment Effect (LATE) and its derivation\n",
    "Target of inference: \n",
    "\n",
    "$E(Y^{Z=1}|A^0 = 0, A^1 = 1) - E(Y^{Z=0}|A^0 = 0, A^1 = 1)$\n",
    "\n",
    "This is a valid causal effect since it is __a contrast of potential outcomes__ (represented by $Y^{Z=1}, Y^{Z=0}$) __on the same subpopulation__ (represented by “$A^0 = 0, A^1 = 1$”).\n",
    "\n",
    "$E(Y^{Z=1}|A^0 = 0, A^1 = 1) - E(Y^{Z=0}|A^0 = 0, A^1 = 1) = E(Y^{Z=1} - Y^{Z=0}| compliers)$\n",
    "\n",
    "“Local” implies it is restricted to a subpopulation of the general population, and in this case, we are concerned with the “compliers” subpopulation. By restricting it to compilers, we can rewrite the potential outcomes notation to:\n",
    "\n",
    "$E(Y^{Z=1} - Y^{Z=0}| compliers) = E(Y^{A=1} - Y^{A=0}| compliers)$\n",
    "\n",
    "This implies that the LATE can be reduced from the causal effect of treatment assignment on outcomes to the causal effect of treatment received on outcomes.\n",
    "\n",
    "This is also known as the __Complier Average Causal Effect (CACE)__. \n",
    "\n",
    "In summary, \n",
    "- this is a causal effect in the \"compliers\" subpopulation (which gives the term “local”), and \n",
    "- there is no inference about the other compliance classes (ie defiers, always-takers, or never-takers).\n",
    "\n",
    "\n"
   ]
  },
  {
   "cell_type": "markdown",
   "metadata": {},
   "source": [
    "### Compliance Classes with Observed Data\n",
    "\n",
    "For each person/treatment unit, we only have one observed outcome based on treatment received. We only observe an A and a Z, but we never observe ($A^0, A^1$). Thus, we will never know which compliance class they belong to.\n",
    "\n"
   ]
  },
  {
   "cell_type": "markdown",
   "metadata": {},
   "source": [
    "|Z|A|$A^0$|$A^1$|Class|\n",
    "|-|-|-|-|-|\n",
    "|0|0|0|<span style=\"color:blue\">?</span>|Never-takers or Compliers|\n",
    "|0|1|1|<span style=\"color:blue\">?</span>|Always-takers or Defiers|\n",
    "|1|0|<span style=\"color:blue\">?</span>|0|Never-takers or Defiers|\n",
    "|1|1|<span style=\"color:blue\">?</span>|1|Always-takers or Compliers|"
   ]
  },
  {
   "cell_type": "markdown",
   "metadata": {},
   "source": [
    "### Identifiability\n",
    "Compliance classes are also known as principal strata that we can stratify the population on. However, these classes are latent (not directly observed).\n"
   ]
  },
  {
   "cell_type": "markdown",
   "metadata": {},
   "source": [
    "### Assumptions of IVs\n",
    "A variable is an instrumental variable (IV) if:\n",
    "- It is associated with the treatment  \n",
    "<img src=\"./img/IV_assumptions_1.png\" >  \n",
    "- It affects the outcome only through its effect on treatment. Also known as the exclusion restriction. It cannot affect outcome directly, or indirectly through unmeasured confounders.  \n",
    "<img src=\"./img/IV_assumptions_2.png\" >  "
   ]
  },
  {
   "cell_type": "markdown",
   "metadata": {},
   "source": [
    "### Identification Challenge\n",
    "Based on the observed data (and only one observed outcome for each treatment unit), we cannot identify exactly who the compilers are. \n",
    "\n",
    "|Z|A|$A^0$|$A^1$|Class|\n",
    "|-|-|-|-|-|\n",
    "|0|0|0|<span style=\"color:blue\">?</span>|Never-takers or Compliers|\n",
    "|0|1|1|<span style=\"color:red\">1</span>|Always-takers <s style=\"color:red\"> or Defiers  </s>|\n",
    "|1|0|<span style=\"color:red\">0</span>|0|Never-takers <s style=\"color:red\"> or Defiers  </s>|\n",
    "|1|1|<span style=\"color:blue\">?</span>|1|Always-takers or Compliers|\n",
    "\n",
    "To tackle that, we must assume __monotonicity__ (which means that there are no defiers). \n",
    "- Key essence is that no one consistently does the opposite of what they are told. \n",
    "- The term 'monotonicity' is given because of the assumption that the probability of treatment received should increase with more encouragement. \n"
   ]
  },
  {
   "cell_type": "markdown",
   "metadata": {},
   "source": [
    "### Identification of Causal Effect:\n",
    "\n",
    "Our goal is to estimate Compliers Average Causal Effect: \n",
    "\n",
    "$E(Y^{A=1} - Y^{a=1} | compilers)$\n",
    "\n",
    "To do that, we have to identify the ITT effect:\n",
    "\n",
    "$E(Y^{Z=1} - Y^{Z=0}) = E(Y | Z = 1) - E(Y | Z = 0)$\n",
    "\n",
    "Breaking it down into the 3 subpopulations,  \n",
    "$ E(Y|Z = 1) =$ \n",
    "\n",
    "$E(Y|Z=1, always\\ takers) P(always\\ takers) +$  \n",
    "$E(Y|Z=1, never\\ takers) P(never\\ takers) + $  \n",
    "$E(Y|Z=1, compliers) P(compliers)$  \n",
    "\n",
    "__Key assumption:__ Among always-takers and never-takers, treatment assignment Z is redundant and does not provide further information about their treatment received. \n",
    "\n",
    "In other words, treatment received A is independent of treatment assignment Z. Thus:\n",
    "- <span style=\"color:blue\">$E(Y|Z=1, always\\ takers) = E(Y|always\\ takers)$ </span>\n",
    "- <span style=\"color:orange\">$E(Y|Z=1, never\\ takers) = E(Y|never\\ takers)$ </span>\n",
    "\n",
    "Therefore,\n",
    "\n",
    "$E(Y|Z = 1) =$  \n",
    "<span style=\"color:blue\">$E(Y|always\\ takers) P(always\\ takers) + $  </span>  \n",
    "<span style=\"color:orange\">$E(Y|never\\ takers) P(never\\ takers) +$  </span>  \n",
    "<span style=\"color:green\">$E(Y|Z=1, compliers) P(compliers)$  </span>\n",
    "\n",
    "$E(Y|Z = 0) = $  \n",
    "<span style=\"color:blue\">$E(Y|always\\ takers) P(always\\ takers) + $  </span>  \n",
    "<span style=\"color:orange\">$E(Y|never\\ takers) P(never\\ takers) +$  </span>  \n",
    "<span style=\"color:green\">$E(Y|Z=0, compliers) P(compliers)$  </span>\n",
    "\n"
   ]
  },
  {
   "cell_type": "markdown",
   "metadata": {},
   "source": [
    "Therefore:\n",
    "\n",
    "$E(Y|Z = 1) - E(Y|Z = 0) = $  \n",
    "<span style=\"color:green\">$E(Y|Z=1, compliers) P(compliers)$</span> - <span style=\"color:green\">$E(Y|Z=0, compliers) P(compliers)$</span>\n",
    "\n",
    "Rewriting it the above equation with algebraic manipulation,\n",
    "\n",
    "$\\frac{E(Y|Z = 1) - E(Y|Z = 0)}{P(compliers)} = E(Y|Z=1, compliers) - E(Y|Z=0, compliers)$\n"
   ]
  },
  {
   "cell_type": "markdown",
   "metadata": {},
   "source": [
    "Looking at the RHS, we see that we can rewrite it in terms of potential outcomes Y based on treatment received A (since we are dealing with the compliers subpopulation). \n",
    "- In this context, we are directly randomizing treatment received A via randomizing treatment assignment Z due to the “compliers” behaviour.\n",
    "- For compliers, if encouragement Z = 1, treatment A = 1, which can result in potential outcome $Y^1$, vice versa for Z = 0."
   ]
  },
  {
   "cell_type": "markdown",
   "metadata": {},
   "source": [
    "$E(Y|Z=1, compliers) - E(Y|Z=0, compliers) =  E(Y^{A=1} - Y^{A=0}| compliers)$\n",
    "\n",
    "Thus, the RHS expression is equivalent to the CACE.\n",
    "\n",
    "CACE = $\\frac{E(Y|Z = 1) - E(Y|Z = 0)}{P(compliers)}$\n",
    "\n",
    "Note that the denominator $P(compliers)$ = $E(A=1|Z=1) - E(A=1|Z=0)$\n",
    "- $E(A=1|Z=1)$: proportion of people who are always takers or compilers\n",
    "- $E(A=1|Z=0)$: proportion of people who are always takers (since there are no defiers).\n",
    "\n",
    "CACE = $\\frac{E(Y|Z = 1) - E(Y|Z = 0)}{E(A=1|Z=1) - E(A=1|Z=0)}$\n",
    "\n",
    "Essentially, the CACE is the ratio of __\"causal effect of treatment assignment on the outcome (or ITT)\"__ over the __\"causal effect of treatment assignment encouragement Z on the treatment received A\"__.\n",
    "- Denominator is always between 0 and 1. Thus, CACE is at least as large as ITT if not more.\n",
    "- ITT is an underestimate of CACE since some people assigned to treatment will not receive treatment.\n",
    "- If there is perfect compliance (denominator = 1), CACE = ITT\n"
   ]
  },
  {
   "cell_type": "markdown",
   "metadata": {},
   "source": [
    "### Two Staged Least Squares (2SLS)\n",
    "2SLS is typically adopted for IV analysis.\n",
    "- Regress treatment received A on the treatment assignment Z ($A \\sim \\ Z$)\n",
    "- Regress outcome Y on predicted treatment received A_hat ($Y \\sim \\hat{A}$)\n"
   ]
  },
  {
   "cell_type": "markdown",
   "metadata": {},
   "source": [
    "<u>Single stage least squares fails:</u>\n",
    "\n",
    "In the context of OLS with a simple model (Y is outcome, A is treatment):  \n",
    "\n",
    "$Y_i = β_0 + A_iβ_1 + ε_i$\n",
    "\n",
    "The assumptions in the model are that the error term ε and the covariate ($A$) are independent. However, if there is confounding involved, $A_i$ and $ε_i$ are correlated."
   ]
  },
  {
   "cell_type": "markdown",
   "metadata": {},
   "source": [
    "With 2SLS, we assume Z is a valid IV based on the assumptions of exclusion restriction. \n",
    "\n",
    "<u>Stage 1:</u>  \n",
    "Regress treatment received A on the instrumental variable Z, where the error term is mean 0 and constant variance. Also, by randomization, Zi and εi are independent.  \n",
    "\n",
    "$A_i = α_0 + Z_iα_1 + ε_i$\n",
    "\n",
    "Obtain predicted value of A ($\\hat{A}$) given Z for each subject _i_.\n",
    "\n",
    "<u>Stage 2:</u>  \n",
    "Regress the outcome Y on the fitted values from Stage 1 $\\hat{A}$. \n",
    "\n",
    "$Y_i = β_0 +  \\hat{A}_iβ_1 + ε_i$\n",
    "\n",
    "By exclusion restriction, Z is independent of Y given $\\hat{A}$. Thus, $ε_i$ has mean 0 and constant variance.\n",
    "\n",
    "Estimate of $β_1$ is the estimate of the local average treatment effect."
   ]
  },
  {
   "cell_type": "markdown",
   "metadata": {},
   "source": [
    "$β_1$  = CACE =  $\\frac{E(Y|Z = 1) - E(Y|Z = 0)}{ E(A=1|Z=1) - E(A=1|Z=0)} = \\frac{E(Y|Z = 1) - E(Y|Z = 0)}{α_1}$,\n",
    "\n",
    "Where $E(A=1|Z=1) - E(A=1|Z=0)$ is the slope of stage 1 model ($α_1$).\n"
   ]
  },
  {
   "cell_type": "markdown",
   "metadata": {},
   "source": [
    "Therefore, ITT = $ E(Y|Z = 1) - E(Y|Z = 0)$ = $β_1 * α_1$"
   ]
  },
  {
   "cell_type": "markdown",
   "metadata": {},
   "source": [
    "### Strength of IVs\n",
    "A strong instrument is highly predictive of treatment received, and vice versa.\n",
    "\n",
    "We can estimate the strength by estimating the proportion of compilers $E(A=1|Z=1) - E(A=1|Z=0)$.\n",
    "- If the complier proportion is close to 1, it is a strong instrument\n",
    "- If the compiler proportion is close to 0, it is a weak instrument.\n",
    "\n",
    "Weak instruments (when denominator is small) lead to very large variance estimates of the ITT, and the estimate of causal effect can be unstable. Mathematically, the proportion of compilers is a denominator in the CACE, where the numerator is the ITT. \n"
   ]
  }
 ],
 "metadata": {
  "kernelspec": {
   "display_name": "Python 3",
   "language": "python",
   "name": "python3"
  },
  "language_info": {
   "codemirror_mode": {
    "name": "ipython",
    "version": 3
   },
   "file_extension": ".py",
   "mimetype": "text/x-python",
   "name": "python",
   "nbconvert_exporter": "python",
   "pygments_lexer": "ipython3",
   "version": "3.7.6"
  }
 },
 "nbformat": 4,
 "nbformat_minor": 4
}
