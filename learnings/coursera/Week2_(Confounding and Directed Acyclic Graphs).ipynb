{
 "cells": [
  {
   "cell_type": "markdown",
   "metadata": {},
   "source": [
    "## Week 2: Confounding and Directed Acyclic Graphs"
   ]
  },
  {
   "cell_type": "markdown",
   "metadata": {},
   "source": [
    "Confounders are often defined as variables that affect treatment and affect the outcome\n",
    "- If i assign treatment based on a coin flip, then that affects treatment but should not affect outcome (the coin flip is not a confounder)\n",
    "- If people with a family history of cancer are more likely to develop cancer (the outcome), but family history was not a factor in the treatment decision, then family history is not a confounder\n",
    "- If older people are at higher risk of cardiovascular disease (the outcome) and are more likely to receive statins (the treatment), then __age is a confounder__\n",
    "\n",
    "Confounder Control involves:\n",
    "- Identifying a set of variables X that will make the ignorability assumption hold (“sufficient to control for confounding”)\n",
    "- Using statistical methods (covered later in the course) to control for these variables and estimate causal effects.\n",
    "\n",
    "Causal Graphs\n",
    "- Helpful for identifying which variables to control for\n",
    "- Makes assumptions explicit\n",
    "\n",
    "A directed acyclic graph (DAG) will tell us:\n",
    "- Which variables are independent from each other\n",
    "- Which variables are conditionally independent from each other\n",
    "- I.e. ways that we can factor and simplify the joint distribution\n"
   ]
  },
  {
   "cell_type": "markdown",
   "metadata": {},
   "source": [
    "Compatibility between DAGS and Distributions\n",
    "- DAGs that are compatible with a particular probability function are not necessarily unique\n"
   ]
  },
  {
   "cell_type": "markdown",
   "metadata": {},
   "source": [
    "For example: \n",
    "- DAG 1: A -> B\n",
    "- DAG 2: A <- A\n",
    "\n",
    "Both DAGS convey that A and B are dependent, i.e.\n",
    "- $P(A,B) \\ne P(A) P(B)$"
   ]
  },
  {
   "cell_type": "markdown",
   "metadata": {},
   "source": [
    "### Types of Paths\n",
    "Paths that induce association\n",
    "- Forks (D <- E -> F)\n",
    "- Chain (D -> E -> F)\n",
    "\n",
    "Paths that do not induce association\n",
    "- Inverted fork / Collider (D -> E <- F)\n",
    "\n",
    "\n",
    "### Conditional Independence (d-separation)\n",
    "\n",
    "Blocking: Paths can be blocked by conditioning on nodes in the path\n",
    "- Forks (A <- G -> B)\n",
    "- Chain (A -> G -> B)\n",
    " - A and B are associated (marginally)\n",
    " - By conditioning on G, both variables A and B are independent\n",
    "\n",
    "Collider conditioning induces dependence between variables.\n",
    "- Inverted fork / Collider (D -> E <- F) \n",
    "\n",
    "A path is d-separated by a set of nodes C if :\n",
    "- It contains a chain (D -> E -> F) and the middle part is in C, OR\n",
    "- It contains a fork (D <- E -> F) and the middle part is in C, OR\n",
    "- It contains an inverted fork (D -> E <- F) and the middle part is not in C, nor are any descendants of it\n"
   ]
  },
  {
   "cell_type": "markdown",
   "metadata": {},
   "source": [
    "### Confounders in DAGS"
   ]
  },
  {
   "cell_type": "markdown",
   "metadata": {},
   "source": [
    "<img src=\"./img/dags_confounding.png\" >"
   ]
  },
  {
   "cell_type": "markdown",
   "metadata": {},
   "source": [
    "What matters is not identifying specific confounders, but identifying a set of variables that are sufficient to control for confounding. We need to block backdoor paths from treatment to outcome.\n",
    "\n"
   ]
  },
  {
   "cell_type": "markdown",
   "metadata": {},
   "source": [
    "### Frontdoor paths"
   ]
  },
  {
   "cell_type": "markdown",
   "metadata": {},
   "source": [
    "A front door path from A to Y is one that begins with an arrow emanating out of A. Frontdoor paths capture effects of treatment. \n"
   ]
  },
  {
   "cell_type": "markdown",
   "metadata": {},
   "source": [
    "<img src=\"./img/dags_frontdoor.png\" >"
   ]
  },
  {
   "cell_type": "markdown",
   "metadata": {},
   "source": [
    "### Backdoor paths\n",
    "\n",
    "A backdoor path from treatment A to outcome Y are paths from A to Y that travel through arrows going into A:\n"
   ]
  },
  {
   "cell_type": "markdown",
   "metadata": {},
   "source": [
    "<img src=\"./img/dags_backdoor.png\" >"
   ]
  },
  {
   "cell_type": "markdown",
   "metadata": {},
   "source": [
    "Where “A <- X -> Y” is a backdoor path from A to Y.\n",
    "\n",
    "__Backdoor paths confound the relationship between treatment A and outcome Y.__\n",
    "\n",
    "A set of variables X is sufficient to control for confounding if: \n",
    "- It blocks all backdoor paths from treatment to the outcome\n",
    "- It does not include any descendants of treatment\n",
    "\n",
    "This is the __backdoor path criterion__, and is not __necessarily unique__.\n"
   ]
  },
  {
   "cell_type": "markdown",
   "metadata": {},
   "source": [
    "__Disjunctive cause criterion__: Control for all observed causes of the exposure, the outcome or both. \n",
    "- Does not always select the smallest set of variables to control for\n",
    "- It is conceptually simpler\n",
    "- Guaranteed to select a set of variables that are sufficient to control for confounding IF either:\n",
    " - Such a set exists\n",
    " - We correctly identify all of the observed causes of A and Y\n"
   ]
  },
  {
   "cell_type": "markdown",
   "metadata": {},
   "source": []
  },
  {
   "cell_type": "markdown",
   "metadata": {},
   "source": []
  },
  {
   "cell_type": "markdown",
   "metadata": {},
   "source": []
  }
 ],
 "metadata": {
  "kernelspec": {
   "display_name": "Python 3",
   "language": "python",
   "name": "python3"
  },
  "language_info": {
   "codemirror_mode": {
    "name": "ipython",
    "version": 3
   },
   "file_extension": ".py",
   "mimetype": "text/x-python",
   "name": "python",
   "nbconvert_exporter": "python",
   "pygments_lexer": "ipython3",
   "version": "3.7.6"
  }
 },
 "nbformat": 4,
 "nbformat_minor": 4
}
